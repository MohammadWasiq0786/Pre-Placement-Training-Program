{
 "cells": [
  {
   "cell_type": "markdown",
   "id": "236193ee",
   "metadata": {},
   "source": [
    "![image](https://user-images.githubusercontent.com/57321948/196933065-4b16c235-f3b9-4391-9cfe-4affcec87c35.png)\n",
    "\n",
    "# Submitted by: Mohammad Wasiq\n",
    "\n",
    "## Email: `gl0427@myamu.ac.in`\n",
    "\n",
    "# DSA (Data Structures and Algorithms) `Stacks`\n",
    "\n",
    "## Day - 15"
   ]
  },
  {
   "cell_type": "markdown",
   "id": "7d8bae01",
   "metadata": {},
   "source": [
    "**Q1. Given a string `s` containing just the characters `'('`, `')'`, `'{'`, `'}'`, `'['` and `']'`, determine if the input string is valid.**\n",
    "\n",
    "An input string is valid if:\n",
    "\n",
    "1. Open brackets must be closed by the same type of brackets.\n",
    "2. Open brackets must be closed in the correct order.\n",
    "3. Every close bracket has a corresponding open bracket of the same type.\n",
    "\n",
    "**Example 1:**\n",
    "\n",
    "```\n",
    "Input: s = \"()\"\n",
    "Output: true\n",
    "\n",
    "```\n",
    "\n",
    "**Example 2:**\n",
    "\n",
    "```\n",
    "Input: s = \"()[]{}\"\n",
    "Output: true\n",
    "\n",
    "```\n",
    "\n",
    "**Example 3:**\n",
    "\n",
    "```\n",
    "Input: s = \"(]\"\n",
    "Output: false\n",
    "```\n",
    "\n",
    "**Solution :**"
   ]
  },
  {
   "cell_type": "code",
   "execution_count": null,
   "id": "903a139f",
   "metadata": {},
   "outputs": [],
   "source": [
    "class Solution:\n",
    "    def isValid(self, s: str) -> bool:\n",
    "        stack = []\n",
    "        for char in s:\n",
    "            if char == '(' or char == '{' or char == '[':\n",
    "                stack.append(char)\n",
    "            else:\n",
    "                if not stack:\n",
    "                    return False\n",
    "                if char == ')' and stack[-1] == '(':\n",
    "                    stack.pop()\n",
    "                elif char == '}' and stack[-1] == '{':\n",
    "                    stack.pop()\n",
    "                elif char == ']' and stack[-1] == '[':\n",
    "                    stack.pop()\n",
    "                else:\n",
    "                    return False\n",
    "        return not stack"
   ]
  },
  {
   "cell_type": "markdown",
   "id": "ff3327fe",
   "metadata": {},
   "source": [
    "**Q2. Given a string `s` of lower and upper case English letters.**\n",
    "\n",
    "A good string is a string which doesn't have **two adjacent characters** `s[i]` and `s[i + 1]` where :\n",
    "\n",
    "- `0 <= i <= s.length - 2`\n",
    "- `s[i]` is a lower-case letter and `s[i + 1]` is the same letter but in upper-case or **vice-versa**.\n",
    "\n",
    "To make the string good, you can choose **two adjacent** characters that make the string bad and remove them. You can keep doing this until the string becomes good.\n",
    "\n",
    "Return *the string* after making it good. The answer is guaranteed to be unique under the given constraints.\n",
    "\n",
    "**Notice** that an empty string is also good.\n",
    "\n",
    "**Example 1:**\n",
    "\n",
    "```\n",
    "Input: s = \"leEeetcode\"\n",
    "Output: \"leetcode\"\n",
    "Explanation: In the first step, either you choose i = 1 or i = 2, both will result \"leEeetcode\" to be reduced to \"leetcode\".\n",
    "\n",
    "```\n",
    "\n",
    "**Example 2:**\n",
    "\n",
    "```\n",
    "Input: s = \"abBAcC\"\n",
    "Output: \"\"\n",
    "Explanation: We have many possible scenarios, and all lead to the same answer. For example:\n",
    "\"abBAcC\" --> \"aAcC\" --> \"cC\" --> \"\"\n",
    "\"abBAcC\" --> \"abBA\" --> \"aA\" --> \"\"\n",
    "\n",
    "```\n",
    "\n",
    "**Example 3:**\n",
    "\n",
    "```\n",
    "Input: s = \"s\"\n",
    "Output: \"s\"\n",
    "```\n",
    "\n",
    "**Solution :**"
   ]
  },
  {
   "cell_type": "code",
   "execution_count": null,
   "id": "ef11c4a2",
   "metadata": {},
   "outputs": [],
   "source": [
    "class Solution:\n",
    "    def makeGood(self, s: str) -> str:\n",
    "\n",
    "        stack = []\n",
    "        \n",
    "        # Scan each character\n",
    "        for char in s:\n",
    "            \n",
    "            # Eliminate lower-upper pair\n",
    "            if stack and ( stack[-1].islower() and char == stack[-1].upper() or \\\n",
    "                           stack[-1].isupper() and char == stack[-1].lower() ):\n",
    "                \n",
    "                stack.pop()\n",
    "            \n",
    "            else:\n",
    "                \n",
    "                stack.append( char )\n",
    "                \n",
    "        \n",
    "        return \"\".join( stack )"
   ]
  },
  {
   "cell_type": "markdown",
   "id": "d05506c9",
   "metadata": {},
   "source": [
    "**Q3.** You are given a string `s` consisting of lowercase English letters. A **duplicate removal** consists of choosing two **adjacent** and **equal** letters and removing them.\n",
    "\n",
    "We repeatedly make **duplicate removals** on `s` until we no longer can.\n",
    "\n",
    "Return *the final string after all such duplicate removals have been made*. It can be proven that the answer is **unique**.\n",
    "\n",
    "**Example 1:**\n",
    "\n",
    "```\n",
    "Input: s = \"abbaca\"\n",
    "Output: \"ca\"\n",
    "Explanation:\n",
    "For example, in \"abbaca\" we could remove \"bb\" since the letters are adjacent and equal, and this is the only possible move.  The result of this move is that the string is \"aaca\", of which only \"aa\" is possible, so the final string is \"ca\".\n",
    "\n",
    "```\n",
    "\n",
    "**Example 2:**\n",
    "\n",
    "```\n",
    "Input: s = \"azxxzy\"\n",
    "Output: \"ay\"\n",
    "```\n",
    "\n",
    "**Solution :**"
   ]
  },
  {
   "cell_type": "code",
   "execution_count": null,
   "id": "6edd099a",
   "metadata": {},
   "outputs": [],
   "source": [
    "class Solution:\n",
    "    def removeDuplicates(self, s: str) -> str:\n",
    "        \n",
    "        stack = []\n",
    "        TOP = -1\n",
    "        \n",
    "        # Scan each character in input string\n",
    "        for character in s:\n",
    "            \n",
    "            # Remove all adjacent duplicates\n",
    "            if stack and stack[TOP] == character:\n",
    "                stack.pop()\n",
    "                \n",
    "            else:\n",
    "                stack.append( character )\n",
    "                \n",
    "        \n",
    "        return \"\".join( stack )"
   ]
  }
 ],
 "metadata": {
  "kernelspec": {
   "display_name": "Python 3 (ipykernel)",
   "language": "python",
   "name": "python3"
  },
  "language_info": {
   "codemirror_mode": {
    "name": "ipython",
    "version": 3
   },
   "file_extension": ".py",
   "mimetype": "text/x-python",
   "name": "python",
   "nbconvert_exporter": "python",
   "pygments_lexer": "ipython3",
   "version": "3.9.12"
  },
  "latex_envs": {
   "LaTeX_envs_menu_present": true,
   "autoclose": false,
   "autocomplete": true,
   "bibliofile": "biblio.bib",
   "cite_by": "apalike",
   "current_citInitial": 1,
   "eqLabelWithNumbers": true,
   "eqNumInitial": 1,
   "hotkeys": {
    "equation": "Ctrl-E",
    "itemize": "Ctrl-I"
   },
   "labels_anchors": false,
   "latex_user_defs": false,
   "report_style_numbering": false,
   "user_envs_cfg": false
  },
  "nbTranslate": {
   "displayLangs": [
    "*"
   ],
   "hotkey": "alt-t",
   "langInMainMenu": true,
   "sourceLang": "en",
   "targetLang": "fr",
   "useGoogleTranslate": true
  },
  "toc": {
   "base_numbering": 1,
   "nav_menu": {},
   "number_sections": true,
   "sideBar": true,
   "skip_h1_title": false,
   "title_cell": "Table of Contents",
   "title_sidebar": "Contents",
   "toc_cell": false,
   "toc_position": {},
   "toc_section_display": true,
   "toc_window_display": false
  },
  "varInspector": {
   "cols": {
    "lenName": 16,
    "lenType": 16,
    "lenVar": 40
   },
   "kernels_config": {
    "python": {
     "delete_cmd_postfix": "",
     "delete_cmd_prefix": "del ",
     "library": "var_list.py",
     "varRefreshCmd": "print(var_dic_list())"
    },
    "r": {
     "delete_cmd_postfix": ") ",
     "delete_cmd_prefix": "rm(",
     "library": "var_list.r",
     "varRefreshCmd": "cat(var_dic_list()) "
    }
   },
   "types_to_exclude": [
    "module",
    "function",
    "builtin_function_or_method",
    "instance",
    "_Feature"
   ],
   "window_display": false
  }
 },
 "nbformat": 4,
 "nbformat_minor": 5
}
