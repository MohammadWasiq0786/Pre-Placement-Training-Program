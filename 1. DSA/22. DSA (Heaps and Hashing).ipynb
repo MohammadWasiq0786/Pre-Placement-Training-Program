{
 "cells": [
  {
   "cell_type": "markdown",
   "id": "d9e269b4",
   "metadata": {},
   "source": [
    "![image](https://user-images.githubusercontent.com/57321948/196933065-4b16c235-f3b9-4391-9cfe-4affcec87c35.png)\n",
    "\n",
    "# Submitted by: Mohammad Wasiq\n",
    "\n",
    "## Email: `gl0427@myamu.ac.in`\n",
    "\n",
    "# DSA (Data Structures and Algorithms) `Heaps and Hashing`\n",
    "\n",
    "## Day - 23"
   ]
  },
  {
   "cell_type": "markdown",
   "id": "1dcb857e",
   "metadata": {},
   "source": [
    "**Q1. The diameter of a tree (sometimes called the width) is the number of nodes on the longest path between two end nodes. The diagram below shows two trees each with diameter nine, the leaves that form the ends of the longest path are shaded (note that there is more than one path in each tree of length nine, but no path longer than nine nodes). Find the diameter of input tree.**\n",
    "\n",
    "![](https://contribute.geeksforgeeks.org/wp-content/uploads/diameter.jpg)\n",
    "\n",
    "**Example 1:**\n",
    "\n",
    "Input:\n",
    "```\n",
    "       1\n",
    "     /  \\\n",
    "    2    3\n",
    "\n",
    "```\n",
    "Output:\n",
    "\n",
    "3\n",
    "\n",
    "**Example 2:**\n",
    "\n",
    "Input:\n",
    "```\n",
    "         10\n",
    "        /   \\\n",
    "      20    30\n",
    "    /   \\\n",
    "   40   60\n",
    "```\n",
    "Output:\n",
    "\n",
    "4\n",
    "\n",
    "**Ans :**"
   ]
  },
  {
   "cell_type": "code",
   "execution_count": 1,
   "id": "f85d6758",
   "metadata": {
    "ExecuteTime": {
     "end_time": "2023-07-01T06:46:40.144022Z",
     "start_time": "2023-07-01T06:46:40.124073Z"
    }
   },
   "outputs": [],
   "source": [
    "# Tree node structure used in the program\n",
    "\n",
    "class Node:\n",
    "    def __init__(self, x):\n",
    "        self.data = x\n",
    "        self.left = None\n",
    "        self.right = None\n",
    "\n",
    "class Solution:\n",
    "\n",
    "    def fast(self, root: Node) -> tuple[int, int]:\n",
    "        if root is None:\n",
    "            return (0, 0)\n",
    "        left = self.fast(root.left)\n",
    "        right = self.fast(root.right)\n",
    "        op1 = left[0]\n",
    "        op2 = right[1]\n",
    "        op3 = left[1] + right[1] + 1\n",
    "        ans = (max(op1, max(op2, op3)), max(left[1], right[1]) + 1)\n",
    "        return ans\n",
    "\n",
    "    def diameter(self, root: Node) -> int:\n",
    "        return self.fast(root)[0]"
   ]
  },
  {
   "cell_type": "markdown",
   "id": "b6b86fa6",
   "metadata": {},
   "source": [
    "**Q2. Given a binary tree, find its height.**\n",
    "\n",
    "**Example 1:**\n",
    "\n",
    "Input:\n",
    "```\n",
    "     1\n",
    "    /  \\\n",
    "  2     3\n",
    "```\n",
    "Output: 2\n",
    "\n",
    "**Example 2:**\n",
    "\n",
    "Input:\n",
    "```\n",
    "  2\n",
    "   \\\n",
    "    1\n",
    "   /\n",
    " 3\n",
    "```\n",
    "Output: 3\n",
    "\n",
    "**Ans :**"
   ]
  },
  {
   "cell_type": "code",
   "execution_count": 2,
   "id": "6fd657d2",
   "metadata": {
    "ExecuteTime": {
     "end_time": "2023-07-01T06:47:52.792198Z",
     "start_time": "2023-07-01T06:47:52.772253Z"
    }
   },
   "outputs": [],
   "source": [
    "class Solution:\n",
    "    def height(self, node):\n",
    "        level = 0\n",
    "        odd = []\n",
    "        even = []\n",
    "        if node is None:\n",
    "            return level\n",
    "        odd.append(node)\n",
    "        count = 0\n",
    "        while len(even) != 0 or len(odd) != 0:\n",
    "            count += 1\n",
    "            if count % 2 == 0:\n",
    "                s = len(even)\n",
    "            else:\n",
    "                s = len(odd)\n",
    "\n",
    "            for i in range(s):\n",
    "                if count % 2 != 0:\n",
    "                    x = odd.pop()\n",
    "                    if x.right is not None:\n",
    "                        even.append(x.right)\n",
    "                    if x.left is not None:\n",
    "                        even.append(x.left)\n",
    "\n",
    "                else:\n",
    "                    x = even.pop()\n",
    "                    if x.left is not None:\n",
    "                        odd.append(x.left)\n",
    "                    if x.right is not None:\n",
    "                        odd.append(x.right)\n",
    "        return count"
   ]
  },
  {
   "cell_type": "markdown",
   "id": "eddeb321",
   "metadata": {},
   "source": [
    "**Q3. Given a Binary Tree. Find the Zig-Zag Level Order Traversal of the Binary Tree.**\n",
    "\n",
    "**Example 1:**\n",
    "\n",
    "Input:\n",
    "```\n",
    "        1\n",
    "      /   \\\n",
    "     2     3\n",
    "    / \\   /  \\\n",
    "   4   5 6    7\n",
    "```\n",
    "Output:\n",
    "1 3 2 4 5 6 7\n",
    "\n",
    "**Example 2:**\n",
    "\n",
    "Input:\n",
    "```\n",
    "           7\n",
    "        /     \\\n",
    "       9       7\n",
    "     /  \\     /\n",
    "    8    8   6\n",
    "   /  \\\n",
    "  10   9\n",
    "```\n",
    "Output:\n",
    "7 7 9 8 8 6 9 10\n",
    "\n",
    "**Ans :**"
   ]
  },
  {
   "cell_type": "code",
   "execution_count": 3,
   "id": "a581b926",
   "metadata": {
    "ExecuteTime": {
     "end_time": "2023-07-01T06:48:57.187059Z",
     "start_time": "2023-07-01T06:48:57.165123Z"
    }
   },
   "outputs": [],
   "source": [
    "class Solution:\n",
    "    def zigZagTraversal(self, root):\n",
    "        res = []\n",
    "        q = []\n",
    "        if root == None:\n",
    "            return res\n",
    "        lefttoright = True\n",
    "        q.append(root)\n",
    "        while len(q) != 0:\n",
    "            size = len(q)\n",
    "            ans = [0] * size\n",
    "            for i in range(size):\n",
    "                frontnode = q.pop(0)\n",
    "                index = i if lefttoright else size - i - 1\n",
    "                ans[index] = frontnode.data\n",
    "                if frontnode.left != None:\n",
    "                    q.append(frontnode.left)\n",
    "                if frontnode.right != None:\n",
    "                    q.append(frontnode.right)\n",
    "            lefttoright = not lefttoright\n",
    "            res += ans\n",
    "        return res"
   ]
  },
  {
   "cell_type": "markdown",
   "id": "f0018543",
   "metadata": {},
   "source": [
    "**Q4. Given a binary tree of size N, find its reverse level order traversal. ie- the traversal must begin from the last level.**\n",
    "\n",
    "**Example 1:**\n",
    "\n",
    "Input :\n",
    "```\n",
    "        1\n",
    "      /   \\\n",
    "     3     2\n",
    "```\n",
    "Output: 3 2 1\n",
    "<br> Explanation:\n",
    "<br> Traversing level 1 : 3 2\n",
    "<br> Traversing level 0 : 1\n",
    "\n",
    "**Example 2:**\n",
    "\n",
    "Input :\n",
    "```\n",
    "       10\n",
    "      /  \\\n",
    "     20   30\n",
    "    / \\\n",
    "   40  60\n",
    "```\n",
    "Output:40 60 20 30 10\n",
    "<br> Explanation:\n",
    "<br> Traversing level 2 : 40 60\n",
    "<br> Traversing level 1 : 20 30\n",
    "<br> Traversing level 0 : 10\n",
    "\n",
    "**Ans :**"
   ]
  },
  {
   "cell_type": "code",
   "execution_count": 4,
   "id": "ad5223fe",
   "metadata": {
    "ExecuteTime": {
     "end_time": "2023-07-01T06:49:59.961656Z",
     "start_time": "2023-07-01T06:49:59.945699Z"
    }
   },
   "outputs": [],
   "source": [
    "class Solution:\n",
    "    def reverseLevelOrder(self, node):\n",
    "        ans = []\n",
    "        st = []\n",
    "        st.append(node)\n",
    "        while(len(st) != 0):\n",
    "            size = len(st)\n",
    "            while(size > 0):\n",
    "                h = st.pop(0)\n",
    "                ans.append(h.data)\n",
    "                if(h.right != None):\n",
    "                    st.append(h.right)\n",
    "                if(h.left != None):\n",
    "                    st.append(h.left)\n",
    "                size -= 1\n",
    "        ans.reverse()\n",
    "        return ans"
   ]
  }
 ],
 "metadata": {
  "kernelspec": {
   "display_name": "Python 3 (ipykernel)",
   "language": "python",
   "name": "python3"
  },
  "language_info": {
   "codemirror_mode": {
    "name": "ipython",
    "version": 3
   },
   "file_extension": ".py",
   "mimetype": "text/x-python",
   "name": "python",
   "nbconvert_exporter": "python",
   "pygments_lexer": "ipython3",
   "version": "3.9.12"
  },
  "latex_envs": {
   "LaTeX_envs_menu_present": true,
   "autoclose": false,
   "autocomplete": true,
   "bibliofile": "biblio.bib",
   "cite_by": "apalike",
   "current_citInitial": 1,
   "eqLabelWithNumbers": true,
   "eqNumInitial": 1,
   "hotkeys": {
    "equation": "Ctrl-E",
    "itemize": "Ctrl-I"
   },
   "labels_anchors": false,
   "latex_user_defs": false,
   "report_style_numbering": false,
   "user_envs_cfg": false
  },
  "nbTranslate": {
   "displayLangs": [
    "*"
   ],
   "hotkey": "alt-t",
   "langInMainMenu": true,
   "sourceLang": "en",
   "targetLang": "fr",
   "useGoogleTranslate": true
  },
  "toc": {
   "base_numbering": 1,
   "nav_menu": {},
   "number_sections": true,
   "sideBar": true,
   "skip_h1_title": false,
   "title_cell": "Table of Contents",
   "title_sidebar": "Contents",
   "toc_cell": false,
   "toc_position": {},
   "toc_section_display": true,
   "toc_window_display": false
  },
  "varInspector": {
   "cols": {
    "lenName": 16,
    "lenType": 16,
    "lenVar": 40
   },
   "kernels_config": {
    "python": {
     "delete_cmd_postfix": "",
     "delete_cmd_prefix": "del ",
     "library": "var_list.py",
     "varRefreshCmd": "print(var_dic_list())"
    },
    "r": {
     "delete_cmd_postfix": ") ",
     "delete_cmd_prefix": "rm(",
     "library": "var_list.r",
     "varRefreshCmd": "cat(var_dic_list()) "
    }
   },
   "types_to_exclude": [
    "module",
    "function",
    "builtin_function_or_method",
    "instance",
    "_Feature"
   ],
   "window_display": false
  }
 },
 "nbformat": 4,
 "nbformat_minor": 5
}
