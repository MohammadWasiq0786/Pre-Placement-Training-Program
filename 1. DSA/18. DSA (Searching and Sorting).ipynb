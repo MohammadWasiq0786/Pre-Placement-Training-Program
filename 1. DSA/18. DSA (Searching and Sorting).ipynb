{
 "cells": [
  {
   "cell_type": "markdown",
   "id": "e5e4c164",
   "metadata": {},
   "source": [
    "![image](https://user-images.githubusercontent.com/57321948/196933065-4b16c235-f3b9-4391-9cfe-4affcec87c35.png)\n",
    "\n",
    "# Submitted by: Mohammad Wasiq\n",
    "\n",
    "## Email: `gl0427@myamu.ac.in`\n",
    "\n",
    "# DSA (Data Structures and Algorithms) `Searching and Sorting`\n",
    "\n",
    "## Day - 18"
   ]
  },
  {
   "cell_type": "markdown",
   "id": "174ea370",
   "metadata": {},
   "source": [
    "**Q1. Find common elements in three sorted arrays.**\n",
    "\n",
    "[Link](https://www.geeksforgeeks.org/find-common-elements-three-sorted-arrays/)\n",
    "\n",
    "Approach : For each element in array1, check whether it is present in both array2 and array3. Since all the arrays are sorted, binary search can be utilized to search in array2 and array3.\n",
    "\n",
    "```\n",
    "Time Complexity : O(n1(log(n2*n3))\n",
    "Space Complexity : O(1)\n",
    "```\n",
    "\n",
    "**Solution :**"
   ]
  },
  {
   "cell_type": "code",
   "execution_count": null,
   "id": "0617e011",
   "metadata": {
    "ExecuteTime": {
     "end_time": "2023-06-24T06:22:53.582942Z",
     "start_time": "2023-06-24T06:22:53.566985Z"
    }
   },
   "outputs": [],
   "source": [
    "# Python function to print common elements in three sorted arrays\n",
    "def findCommon(ar1, ar2, ar3, n1, n2, n3):\n",
    "\n",
    "    # Initialize starting indexes for ar1[], ar2[] and ar3[]\n",
    "    i, j, k = 0, 0, 0\n",
    "\n",
    "    # Iterate through three arrays while all arrays have elements\n",
    "    while (i < n1 and j < n2 and k < n3):\n",
    "\n",
    "        # If x = y and y = z, print any of them and move ahead\n",
    "        # in all arrays\n",
    "        if (ar1[i] == ar2[j] and ar2[j] == ar3[k]):\n",
    "            print ar1[i],\n",
    "            i += 1\n",
    "            j += 1\n",
    "            k += 1\n",
    "\n",
    "        # x < y\n",
    "        elif ar1[i] < ar2[j]:\n",
    "            i += 1\n",
    "\n",
    "        # y < z\n",
    "        elif ar2[j] < ar3[k]:\n",
    "            j += 1\n",
    "\n",
    "        # We reach here when x > y and z < y, i.e., z is smallest\n",
    "        else:\n",
    "            k += 1\n",
    "\n",
    "\n",
    "# Driver program to check above function\n",
    "ar1 = [1, 5, 10, 20, 40, 80]\n",
    "ar2 = [6, 7, 20, 80, 100]\n",
    "ar3 = [3, 4, 15, 20, 30, 70, 80, 120]\n",
    "n1 = len(ar1)\n",
    "n2 = len(ar2)\n",
    "n3 = len(ar3)\n",
    "print \"Common elements are\",\n",
    "findCommon(ar1, ar2, ar3, n1, n2, n3)"
   ]
  },
  {
   "cell_type": "markdown",
   "id": "84c1562b",
   "metadata": {},
   "source": [
    "**Q2. Minimum number of swaps required to sort an array**\n",
    "\n",
    "[Link](https://www.geeksforgeeks.org/minimum-number-swaps-required-sort-array/)\n",
    "\n",
    "Approach : Since all the element lie within the range 1 to N (where N is the size of the array), and all the elements are unique in nature, the final sorted array would like : 1 2 3 4 ….. N. In other words, index i should have element i+1, in the final sorted array.\n",
    "\n",
    "Now, While iterating over the array, check the current element at index i, if it is different from i+1, shift arr[i] to arr[ arr[i] - 1 ]. Loop this till index i gets i+1. Count the total number of swaps for each index.\n",
    "\n",
    "```\n",
    "Time Complexity : O(N), where N is the size of the array\n",
    "Space Complexity : O(1)\n",
    "```\n",
    "\n",
    "**Solution :**"
   ]
  },
  {
   "cell_type": "code",
   "execution_count": 2,
   "id": "97517694",
   "metadata": {
    "ExecuteTime": {
     "end_time": "2023-06-24T06:25:54.756293Z",
     "start_time": "2023-06-24T06:25:54.739334Z"
    }
   },
   "outputs": [],
   "source": [
    "def minSwaps(arr, N):\n",
    " \n",
    "    ans = 0\n",
    "    for i in range(N):\n",
    " \n",
    "        # This is checking whether\n",
    "        # the current element is\n",
    "        # at the right place or not\n",
    "        if (arr[i] != i+1):\n",
    "            ans += 1\n",
    "            # Swap the current element\n",
    "            # with the right index\n",
    "            # so that arr[0] to arr[i]\n",
    "            # is sorted\n",
    "            arr[i],arr[arr[i]-1] = arr[arr[i]-1],arr[i]\n",
    " \n",
    "    return ans"
   ]
  }
 ],
 "metadata": {
  "kernelspec": {
   "display_name": "Python 3 (ipykernel)",
   "language": "python",
   "name": "python3"
  },
  "language_info": {
   "codemirror_mode": {
    "name": "ipython",
    "version": 3
   },
   "file_extension": ".py",
   "mimetype": "text/x-python",
   "name": "python",
   "nbconvert_exporter": "python",
   "pygments_lexer": "ipython3",
   "version": "3.9.12"
  },
  "latex_envs": {
   "LaTeX_envs_menu_present": true,
   "autoclose": false,
   "autocomplete": true,
   "bibliofile": "biblio.bib",
   "cite_by": "apalike",
   "current_citInitial": 1,
   "eqLabelWithNumbers": true,
   "eqNumInitial": 1,
   "hotkeys": {
    "equation": "Ctrl-E",
    "itemize": "Ctrl-I"
   },
   "labels_anchors": false,
   "latex_user_defs": false,
   "report_style_numbering": false,
   "user_envs_cfg": false
  },
  "nbTranslate": {
   "displayLangs": [
    "*"
   ],
   "hotkey": "alt-t",
   "langInMainMenu": true,
   "sourceLang": "en",
   "targetLang": "fr",
   "useGoogleTranslate": true
  },
  "toc": {
   "base_numbering": 1,
   "nav_menu": {},
   "number_sections": true,
   "sideBar": true,
   "skip_h1_title": false,
   "title_cell": "Table of Contents",
   "title_sidebar": "Contents",
   "toc_cell": false,
   "toc_position": {},
   "toc_section_display": true,
   "toc_window_display": false
  },
  "varInspector": {
   "cols": {
    "lenName": 16,
    "lenType": 16,
    "lenVar": 40
   },
   "kernels_config": {
    "python": {
     "delete_cmd_postfix": "",
     "delete_cmd_prefix": "del ",
     "library": "var_list.py",
     "varRefreshCmd": "print(var_dic_list())"
    },
    "r": {
     "delete_cmd_postfix": ") ",
     "delete_cmd_prefix": "rm(",
     "library": "var_list.r",
     "varRefreshCmd": "cat(var_dic_list()) "
    }
   },
   "types_to_exclude": [
    "module",
    "function",
    "builtin_function_or_method",
    "instance",
    "_Feature"
   ],
   "window_display": false
  }
 },
 "nbformat": 4,
 "nbformat_minor": 5
}
