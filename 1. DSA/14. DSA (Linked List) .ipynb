{
 "cells": [
  {
   "cell_type": "markdown",
   "id": "8be940d1",
   "metadata": {},
   "source": [
    "![image](https://user-images.githubusercontent.com/57321948/196933065-4b16c235-f3b9-4391-9cfe-4affcec87c35.png)\n",
    "\n",
    "# Submitted by: Mohammad Wasiq\n",
    "\n",
    "## Email: `gl0427@myamu.ac.in`\n",
    "\n",
    "# DSA (Data Structures and Algorithms) `Linked List`\n",
    "\n",
    "## Day - 14"
   ]
  },
  {
   "cell_type": "markdown",
   "id": "2db78a9d",
   "metadata": {},
   "source": [
    "**Q1.** Given the `head` of a linked list, return *the node where the cycle begins. If there is no cycle, return* `null`.\n",
    "\n",
    "There is a cycle in a linked list if there is some node in the list that can be reached again by continuously following the `next` pointer. Internally, `pos` is used to denote the index of the node that tail's `next` pointer is connected to (**0-indexed**). It is `-1` if there is no cycle. **Note that** `pos` **is not passed as a parameter**.\n",
    "\n",
    "**Do not modify** the linked list.\n",
    "\n",
    "**Example 1:**\n",
    "\n",
    "![i](https://assets.leetcode.com/uploads/2018/12/07/circularlinkedlist.png)\n",
    "\n",
    "```\n",
    "Input: head = [3,2,0,-4], pos = 1\n",
    "Output: tail connects to node index 1\n",
    "Explanation: There is a cycle in the linked list, where tail connects to the second node.\n",
    "\n",
    "```\n",
    "\n",
    "**Example 2:**\n",
    "\n",
    "![i1](https://assets.leetcode.com/uploads/2018/12/07/circularlinkedlist_test2.png)\n",
    "\n",
    "```\n",
    "Input: head = [1,2], pos = 0\n",
    "Output: tail connects to node index 0\n",
    "Explanation: There is a cycle in the linked list, where tail connects to the first node.\n",
    "\n",
    "```\n",
    "\n",
    "**Example 3:**\n",
    "\n",
    "![i2](https://assets.leetcode.com/uploads/2018/12/07/circularlinkedlist_test3.png)\n",
    "\n",
    "```\n",
    "Input: head = [1], pos = -1\n",
    "Output: no cycle\n",
    "Explanation: There is no cycle in the linked list.\n",
    "```\n",
    "\n",
    "**Solution :**"
   ]
  },
  {
   "cell_type": "code",
   "execution_count": 1,
   "id": "bb20ec42",
   "metadata": {
    "ExecuteTime": {
     "end_time": "2023-06-24T05:42:22.867506Z",
     "start_time": "2023-06-24T05:42:22.856534Z"
    }
   },
   "outputs": [],
   "source": [
    "# Time Complexity : O(n)\n",
    "# Space Complexity : O(1)\n",
    "class Solution(object):\n",
    "    def detectCycle(self, head):\n",
    "        # Initialize pointers at head of linkedlist...\n",
    "        p1 = p2 = head\n",
    "        # Run a loop until p2 and p2.next is equal to null...\n",
    "        while p2 and p2.next:\n",
    "            # Moving p1 by 1 & p2 by 2\n",
    "            p1, p2 = p1.next, p2.next.next\n",
    "            # found the cycle...\n",
    "            if p1 == p2: break\n",
    "        # In case there is no cycle or no meeting point...\n",
    "        else: return None\n",
    "        # run loop until again head & p1 don't collab...\n",
    "        while head != p1:\n",
    "            # Moving head by 1 & p1 by 1 as well...\n",
    "            head, p1 = head.next, p1.next\n",
    "        return head     # Or return p1, they both will return the tail where cycle starts..."
   ]
  },
  {
   "cell_type": "markdown",
   "id": "f94162be",
   "metadata": {},
   "source": [
    "**Q2.** In a linked list of size `n`, where `n` is **even**, the `ith` node (**0-indexed**) of the linked list is known as the **twin** of the `(n-1-i)th` node, if `0 <= i <= (n / 2) - 1`.\n",
    "\n",
    "- For example, if `n = 4`, then node `0` is the twin of node `3`, and node `1` is the twin of node `2`. These are the only nodes with twins for `n = 4`.\n",
    "\n",
    "The **twin sum** is defined as the sum of a node and its twin.\n",
    "\n",
    "Given the `head` of a linked list with even length, return *the **maximum twin sum** of the linked list*.\n",
    "\n",
    "**Example 1:**\n",
    "\n",
    "![img](https://assets.leetcode.com/uploads/2021/12/03/eg1drawio.png)\n",
    "\n",
    "```\n",
    "Input: head = [5,4,2,1]\n",
    "Output: 6\n",
    "Explanation:\n",
    "Nodes 0 and 1 are the twins of nodes 3 and 2, respectively. All have twin sum = 6.\n",
    "There are no other nodes with twins in the linked list.\n",
    "Thus, the maximum twin sum of the linked list is 6.\n",
    "\n",
    "```\n",
    "\n",
    "**Example 2:**\n",
    "\n",
    "![img1](https://assets.leetcode.com/uploads/2021/12/03/eg2drawio.png)\n",
    "\n",
    "```\n",
    "Input: head = [4,2,2,3]\n",
    "Output: 7\n",
    "Explanation:\n",
    "The nodes with twins present in this linked list are:\n",
    "- Node 0 is the twin of node 3 having a twin sum of 4 + 3 = 7.\n",
    "- Node 1 is the twin of node 2 having a twin sum of 2 + 2 = 4.\n",
    "Thus, the maximum twin sum of the linked list is max(7, 4) = 7.\n",
    "\n",
    "```\n",
    "\n",
    "**Example 3:**\n",
    "\n",
    "![img2](https://assets.leetcode.com/uploads/2021/12/03/eg3drawio.png)\n",
    "\n",
    "```\n",
    "Input: head = [1,100000]\n",
    "Output: 100001\n",
    "Explanation:\n",
    "There is only one node with a twin in the linked list having twin sum of 1 + 100000 = 100001.\n",
    "```\n",
    "\n",
    "**Solution :**"
   ]
  },
  {
   "cell_type": "code",
   "execution_count": 2,
   "id": "27ef1ac3",
   "metadata": {
    "ExecuteTime": {
     "end_time": "2023-06-24T05:44:15.013678Z",
     "start_time": "2023-06-24T05:44:14.993727Z"
    }
   },
   "outputs": [],
   "source": [
    "class Solution:\n",
    "    def pairSum(self, head):\n",
    "        slow = head\n",
    "        fast = head\n",
    "        maxVal = 0\n",
    "\n",
    "        while fast and fast.next:\n",
    "            slow = slow.next\n",
    "            fast = fast.next.next\n",
    "\n",
    "        nextNode, prev = None, None\n",
    "        while slow:\n",
    "            nextNode = slow.next\n",
    "            slow.next = prev\n",
    "            prev = slow\n",
    "            slow = nextNode\n",
    "\n",
    "        while prev:\n",
    "            maxVal = max(maxVal, head.val + prev.val)\n",
    "            prev = prev.next\n",
    "            head = head.next\n",
    "\n",
    "        return maxVal"
   ]
  },
  {
   "cell_type": "markdown",
   "id": "ca17f110",
   "metadata": {},
   "source": [
    "**Q3. Given the `head` of a linked list, remove the `nth` node from the end of the list and return its head.**\n",
    "\n",
    "**Example 1:**\n",
    "\n",
    "![image](https://assets.leetcode.com/uploads/2020/10/03/remove_ex1.jpg)\n",
    "\n",
    "```\n",
    "Input: head = [1,2,3,4,5], n = 2\n",
    "Output: [1,2,3,5]\n",
    "\n",
    "```\n",
    "\n",
    "**Example 2:**\n",
    "\n",
    "```\n",
    "Input: head = [1], n = 1\n",
    "Output: []\n",
    "\n",
    "```\n",
    "\n",
    "**Example 3:**\n",
    "\n",
    "```\n",
    "Input: head = [1,2], n = 1\n",
    "Output: [1]\n",
    "```\n",
    "\n",
    "**Solution :**"
   ]
  },
  {
   "cell_type": "code",
   "execution_count": null,
   "id": "b15ad775",
   "metadata": {
    "ExecuteTime": {
     "end_time": "2023-06-24T05:44:58.756199Z",
     "start_time": "2023-06-24T05:44:58.034133Z"
    }
   },
   "outputs": [],
   "source": [
    "class Solution:\n",
    "    def removeNthFromEnd(self, head: Optional[ListNode], n: int) -> Optional[ListNode]:\n",
    "        dummy = ListNode(-1, head)\n",
    "        fast,slow = head,dummy\n",
    "        for i in range(n): fast = fast.next\n",
    "        while fast:\n",
    "            fast = fast.next\n",
    "            slow = slow.next\n",
    "        slow.next = slow.next.next\n",
    "        return dummy.next"
   ]
  }
 ],
 "metadata": {
  "kernelspec": {
   "display_name": "Python 3 (ipykernel)",
   "language": "python",
   "name": "python3"
  },
  "language_info": {
   "codemirror_mode": {
    "name": "ipython",
    "version": 3
   },
   "file_extension": ".py",
   "mimetype": "text/x-python",
   "name": "python",
   "nbconvert_exporter": "python",
   "pygments_lexer": "ipython3",
   "version": "3.9.12"
  },
  "latex_envs": {
   "LaTeX_envs_menu_present": true,
   "autoclose": false,
   "autocomplete": true,
   "bibliofile": "biblio.bib",
   "cite_by": "apalike",
   "current_citInitial": 1,
   "eqLabelWithNumbers": true,
   "eqNumInitial": 1,
   "hotkeys": {
    "equation": "Ctrl-E",
    "itemize": "Ctrl-I"
   },
   "labels_anchors": false,
   "latex_user_defs": false,
   "report_style_numbering": false,
   "user_envs_cfg": false
  },
  "nbTranslate": {
   "displayLangs": [
    "*"
   ],
   "hotkey": "alt-t",
   "langInMainMenu": true,
   "sourceLang": "en",
   "targetLang": "fr",
   "useGoogleTranslate": true
  },
  "toc": {
   "base_numbering": 1,
   "nav_menu": {},
   "number_sections": true,
   "sideBar": true,
   "skip_h1_title": false,
   "title_cell": "Table of Contents",
   "title_sidebar": "Contents",
   "toc_cell": false,
   "toc_position": {},
   "toc_section_display": true,
   "toc_window_display": false
  },
  "varInspector": {
   "cols": {
    "lenName": 16,
    "lenType": 16,
    "lenVar": 40
   },
   "kernels_config": {
    "python": {
     "delete_cmd_postfix": "",
     "delete_cmd_prefix": "del ",
     "library": "var_list.py",
     "varRefreshCmd": "print(var_dic_list())"
    },
    "r": {
     "delete_cmd_postfix": ") ",
     "delete_cmd_prefix": "rm(",
     "library": "var_list.r",
     "varRefreshCmd": "cat(var_dic_list()) "
    }
   },
   "types_to_exclude": [
    "module",
    "function",
    "builtin_function_or_method",
    "instance",
    "_Feature"
   ],
   "window_display": false
  }
 },
 "nbformat": 4,
 "nbformat_minor": 5
}
