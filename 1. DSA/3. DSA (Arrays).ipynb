{
 "cells": [
  {
   "cell_type": "markdown",
   "id": "84f02382",
   "metadata": {},
   "source": [
    "![image](https://user-images.githubusercontent.com/57321948/196933065-4b16c235-f3b9-4391-9cfe-4affcec87c35.png)\n",
    "\n",
    "# Submitted by: Mohammad Wasiq\n",
    "\n",
    "## Email: `gl0427@myamu.ac.in`\n",
    "\n",
    "# DSA (Data Structures and Algorithms) `Arrays`\n",
    "\n",
    "## Day - 3"
   ]
  },
  {
   "cell_type": "markdown",
   "id": "f316543e",
   "metadata": {},
   "source": [
    "**Q1. **Implement [`pow(x, n)`](http://www.cplusplus.com/reference/valarray/pow/), which calculates x raised to the power n (i.e., xn).**\n",
    "\n",
    "**Example 1:**\n",
    "\n",
    "**Input: x = 2.00000, n = 10**\n",
    "\n",
    "**Output: 1024.00000**\n",
    "\n",
    "**TC : O(log n)**\n",
    "\n",
    "**SC : O(1)**\n",
    "\n",
    "**Solution :**"
   ]
  },
  {
   "cell_type": "code",
   "execution_count": 1,
   "id": "9dc81b41",
   "metadata": {
    "ExecuteTime": {
     "end_time": "2023-06-23T15:59:56.834609Z",
     "start_time": "2023-06-23T15:59:56.824636Z"
    }
   },
   "outputs": [],
   "source": [
    "class Solution:\n",
    "    def pow(self, x, n):\n",
    "        if n == 0:\n",
    "            return 1\n",
    "        if n < 0:\n",
    "            n = -n\n",
    "            x = 1 / x\n",
    "        return x * self.pow(x * x, n // 2) if n % 2 else self.pow(x * x, n // 2)"
   ]
  },
  {
   "cell_type": "markdown",
   "id": "8c55f667",
   "metadata": {},
   "source": [
    "**Q2. A permutation of an array of integers is an arrangement of its members into a sequence or linear order.**\n",
    "\n",
    "- **For example, for arr = [1,2,3], the following are all the permutations of arr: [1,2,3], [1,3,2], [2, 1, 3], [2, 3, 1], [3,1,2], [3,2,1].**\n",
    "\n",
    "**The next permutation of an array of integers is the next lexicographically greater permutation of its integer. More formally, if all the permutations of the array are sorted in one container according to their lexicographical order, then the next permutation of that array is the permutation that follows it in the sorted container. If such arrangement is not possible, the array must be rearranged as the lowest possible order (i.e., sorted in ascending order).**\n",
    "\n",
    "- **For example, the next permutation of arr = [1,2,3] is [1,3,2].**\n",
    "- **Similarly, the next permutation of arr = [2,3,1] is [3,1,2].**\n",
    "- **While the next permutation of arr = [3,2,1] is [1,2,3] because [3,2,1] does not have a lexicographical larger rearrangement.**\n",
    "\n",
    "**Given an array of integers nums, *find the next permutation of* nums.**\n",
    "\n",
    "**The replacement must be [in place](http://en.wikipedia.org/wiki/In-place_algorithm) and use only constant extra memory.**\n",
    "\n",
    "**Example 1:**\n",
    "\n",
    "**Input: nums = [1,2,3]**\n",
    "\n",
    "**Output: [1,3,2]**\n",
    "\n",
    "**Time complexity: *O*(*n*). In worst case, only two scans of the whole array are needed.**\n",
    "\n",
    "**Space complexity: *O*(1). No extra space is used. In place replacements are done.**\n",
    "\n",
    "**Solution :**"
   ]
  },
  {
   "cell_type": "code",
   "execution_count": 2,
   "id": "71c7a1ea",
   "metadata": {
    "ExecuteTime": {
     "end_time": "2023-06-23T16:01:42.739707Z",
     "start_time": "2023-06-23T16:01:42.725744Z"
    }
   },
   "outputs": [],
   "source": [
    "def next_permutation(nums):\n",
    "    i = len(nums) - 2\n",
    "    while i >= 0 and nums[i + 1] <= nums[i]:\n",
    "        i -= 1\n",
    "    if i >= 0:\n",
    "        j = len(nums) - 1\n",
    "        while nums[j] <= nums[i]:\n",
    "            j -= 1\n",
    "        nums[i], nums[j] = nums[j], nums[i]\n",
    "    reverse(nums, i + 1)\n",
    " \n",
    "def reverse(nums, start):\n",
    "    i, j = start, len(nums) - 1\n",
    "    while i < j:\n",
    "        nums[i], nums[j] = nums[j], nums[i]\n",
    "        i += 1\n",
    "        j -= 1"
   ]
  },
  {
   "cell_type": "markdown",
   "id": "ce44b6e2",
   "metadata": {},
   "source": [
    "**Q3. Given an array arr[] of distinct elements size N that is sorted and then around an unknown point, the task is to check if the array has a pair with a given sum X.**\n",
    "\n",
    "**Examples :**\n",
    "\n",
    "**Input: arr[] = {11, 15, 6, 8, 9, 10}, X = 16**\n",
    "\n",
    "**Output: true**\n",
    "\n",
    "**Explanation: There is a pair (6, 10) with sum 16**\n",
    "\n",
    "**Time Complexity: O(n), where n is the length of the input array.**\n",
    "\n",
    "**Space Complexity: O(1).**\n",
    "\n",
    "**Solution :**"
   ]
  },
  {
   "cell_type": "code",
   "execution_count": 3,
   "id": "6a412ccf",
   "metadata": {
    "ExecuteTime": {
     "end_time": "2023-06-23T16:02:11.166680Z",
     "start_time": "2023-06-23T16:02:11.147728Z"
    }
   },
   "outputs": [
    {
     "name": "stdout",
     "output_type": "stream",
     "text": [
      "True\n"
     ]
    }
   ],
   "source": [
    "def find_pair(arr, x):\n",
    "    n = len(arr)\n",
    "    # find pivot element\n",
    "    pivot = 0\n",
    "    for i in range(n - 1):\n",
    "        if arr[i] > arr[i + 1]:\n",
    "            pivot = i + 1\n",
    "            break\n",
    "    left = pivot\n",
    "    right = pivot - 1\n",
    "    while left != right:\n",
    "        if arr[left] + arr[right] == x:\n",
    "            return True\n",
    "        elif arr[left] + arr[right] < x:\n",
    "            left = (left + 1) % n\n",
    "        else:\n",
    "            right = (right - 1 + n) % n\n",
    "    return False\n",
    " \n",
    "arr = [11, 15, 6, 8, 9, 10]\n",
    "x = 16\n",
    "print(find_pair(arr, x))"
   ]
  },
  {
   "cell_type": "markdown",
   "id": "fd180888",
   "metadata": {},
   "source": [
    "**Q4. Given an array nums with n objects colored red, white, or blue, sort them [`in-place`](https://en.wikipedia.org/wiki/In-place_algorithm) so that objects of the same color are adjacent, with the colors in the order red, white, and blue.**\n",
    "\n",
    "**We will use the integers 0, 1, and 2 to represent the color red, white, and blue, respectively.**\n",
    "\n",
    "**You must solve this problem without using the library's sort function.**\n",
    "\n",
    "**Example 1:**\n",
    "\n",
    "**Input: nums = [2,0,2,1,1,0]**\n",
    "\n",
    "**Output: [0,0,1,1,2,2]**\n",
    "\n",
    "**Solution:**\n",
    "\n",
    "**TC : O(n)**\n",
    "\n",
    "**SC : O(1)**\n",
    "\n",
    "**Solution :**"
   ]
  },
  {
   "cell_type": "code",
   "execution_count": 4,
   "id": "6a51efc7",
   "metadata": {
    "ExecuteTime": {
     "end_time": "2023-06-23T16:02:53.864875Z",
     "start_time": "2023-06-23T16:02:53.842929Z"
    }
   },
   "outputs": [],
   "source": [
    "def sort_colors(nums):\n",
    "    p0 = 0\n",
    "    curr = 0\n",
    "    p2 = len(nums) - 1\n",
    " \n",
    "    while curr <= p2:\n",
    "        if nums[curr] == 0:\n",
    "            nums[p0], nums[curr] = nums[curr], nums[p0]\n",
    "            p0 += 1\n",
    "            curr += 1\n",
    "        elif nums[curr] == 2:\n",
    "            nums[curr], nums[p2] = nums[p2], nums[curr]\n",
    "            p2 -= 1\n",
    "        else:\n",
    "            curr += 1"
   ]
  },
  {
   "cell_type": "markdown",
   "id": "c77c2b90",
   "metadata": {},
   "source": [
    "**Q5. Given an integer array nums, rotate the array to the right by k steps, where k is non-negative.**\n",
    "\n",
    "**Example 1:**\n",
    "\n",
    "**Input: nums = [1,2,3,4,5,6,7], k = 3**\n",
    "\n",
    "**Output: [5,6,7,1,2,3,4]**\n",
    "\n",
    "**Explanation:**\n",
    "\n",
    "**rotate 1 steps to the right: [7,1,2,3,4,5,6]**\n",
    "\n",
    "**rotate 2 steps to the right: [6,7,1,2,3,4,5]**\n",
    "\n",
    "**rotate 3 steps to the right: [5,6,7,1,2,3,4]**\n",
    "\n",
    "**Solution:**\n",
    "\n",
    "**TC: O(n)**\n",
    "\n",
    "**SC: O(1)**\n",
    "\n",
    "**Solution :**"
   ]
  },
  {
   "cell_type": "code",
   "execution_count": 6,
   "id": "0624b6a2",
   "metadata": {
    "ExecuteTime": {
     "end_time": "2023-06-23T16:05:04.964646Z",
     "start_time": "2023-06-23T16:05:04.942703Z"
    }
   },
   "outputs": [
    {
     "name": "stdout",
     "output_type": "stream",
     "text": [
      "[5, 6, 7, 1, 2, 3, 4]\n"
     ]
    }
   ],
   "source": [
    "class ArrayRotator:\n",
    "    def rotate(self, nums, k):\n",
    "        # Calculate the actual number of rotations\n",
    "        k = k % len(nums)\n",
    "\n",
    "        # Reverse the entire array\n",
    "        self.reverse(nums, 0, len(nums)-1)\n",
    "\n",
    "        # Reverse the first k elements\n",
    "        self.reverse(nums, 0, k-1)\n",
    "\n",
    "        # Reverse the remaining elements\n",
    "        self.reverse(nums, k, len(nums)-1)\n",
    "\n",
    "        return nums\n",
    "\n",
    "    def reverse(self, nums, start, end):\n",
    "        while start < end:\n",
    "            nums[start], nums[end] = nums[end], nums[start]\n",
    "            start += 1\n",
    "            end -= 1\n",
    "\n",
    "# Example usage\n",
    "nums = [1, 2, 3, 4, 5, 6, 7]\n",
    "k = 3\n",
    "\n",
    "rotator = ArrayRotator()\n",
    "rotated_nums = rotator.rotate(nums, k)\n",
    "print(rotated_nums)\n"
   ]
  },
  {
   "cell_type": "markdown",
   "id": "17debae2",
   "metadata": {},
   "source": [
    "**Q6. Given a binary array nums, return *the maximum number of consecutive* 1*'s in the array*.**\n",
    "\n",
    "**Example 1:**\n",
    "\n",
    "**Input: nums = [1,1,0,1,1,1]**\n",
    "\n",
    "**Output: 3**\n",
    "\n",
    "**Explanation: The first two digits or the last three digits are consecutive 1s. The maximum number of consecutive 1s is 3.**\n",
    "\n",
    "**Solution:**\n",
    "\n",
    "**TC : O(n)**\n",
    "\n",
    "**SC : O(1)**\n",
    "\n",
    "**Solution :**"
   ]
  },
  {
   "cell_type": "code",
   "execution_count": 7,
   "id": "4a3d6fa4",
   "metadata": {
    "ExecuteTime": {
     "end_time": "2023-06-23T16:07:29.004620Z",
     "start_time": "2023-06-23T16:07:28.984674Z"
    }
   },
   "outputs": [
    {
     "name": "stdout",
     "output_type": "stream",
     "text": [
      "3\n"
     ]
    }
   ],
   "source": [
    "class MaxConsecutiveOnes:\n",
    "    def findMaxConsecutiveOnes(self, nums):\n",
    "        max_count = 0\n",
    "        current_count = 0\n",
    "\n",
    "        for num in nums:\n",
    "            if num == 1:\n",
    "                current_count += 1\n",
    "                max_count = max(max_count, current_count)\n",
    "            else:\n",
    "                current_count = 0\n",
    "\n",
    "        return max_count\n",
    "\n",
    "# Example usage\n",
    "nums = [1, 1, 0, 1, 1, 1]\n",
    "\n",
    "consecutive_ones = MaxConsecutiveOnes()\n",
    "max_count = consecutive_ones.findMaxConsecutiveOnes(nums)\n",
    "print(max_count)"
   ]
  }
 ],
 "metadata": {
  "kernelspec": {
   "display_name": "Python 3 (ipykernel)",
   "language": "python",
   "name": "python3"
  },
  "language_info": {
   "codemirror_mode": {
    "name": "ipython",
    "version": 3
   },
   "file_extension": ".py",
   "mimetype": "text/x-python",
   "name": "python",
   "nbconvert_exporter": "python",
   "pygments_lexer": "ipython3",
   "version": "3.9.12"
  },
  "latex_envs": {
   "LaTeX_envs_menu_present": true,
   "autoclose": false,
   "autocomplete": true,
   "bibliofile": "biblio.bib",
   "cite_by": "apalike",
   "current_citInitial": 1,
   "eqLabelWithNumbers": true,
   "eqNumInitial": 1,
   "hotkeys": {
    "equation": "Ctrl-E",
    "itemize": "Ctrl-I"
   },
   "labels_anchors": false,
   "latex_user_defs": false,
   "report_style_numbering": false,
   "user_envs_cfg": false
  },
  "nbTranslate": {
   "displayLangs": [
    "*"
   ],
   "hotkey": "alt-t",
   "langInMainMenu": true,
   "sourceLang": "en",
   "targetLang": "fr",
   "useGoogleTranslate": true
  },
  "toc": {
   "base_numbering": 1,
   "nav_menu": {},
   "number_sections": true,
   "sideBar": true,
   "skip_h1_title": false,
   "title_cell": "Table of Contents",
   "title_sidebar": "Contents",
   "toc_cell": false,
   "toc_position": {},
   "toc_section_display": true,
   "toc_window_display": false
  },
  "varInspector": {
   "cols": {
    "lenName": 16,
    "lenType": 16,
    "lenVar": 40
   },
   "kernels_config": {
    "python": {
     "delete_cmd_postfix": "",
     "delete_cmd_prefix": "del ",
     "library": "var_list.py",
     "varRefreshCmd": "print(var_dic_list())"
    },
    "r": {
     "delete_cmd_postfix": ") ",
     "delete_cmd_prefix": "rm(",
     "library": "var_list.r",
     "varRefreshCmd": "cat(var_dic_list()) "
    }
   },
   "types_to_exclude": [
    "module",
    "function",
    "builtin_function_or_method",
    "instance",
    "_Feature"
   ],
   "window_display": false
  }
 },
 "nbformat": 4,
 "nbformat_minor": 5
}
