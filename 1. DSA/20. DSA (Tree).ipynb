{
 "cells": [
  {
   "cell_type": "markdown",
   "id": "8d3187d3",
   "metadata": {},
   "source": [
    "![image](https://user-images.githubusercontent.com/57321948/196933065-4b16c235-f3b9-4391-9cfe-4affcec87c35.png)\n",
    "\n",
    "# Submitted by: Mohammad Wasiq\n",
    "\n",
    "## Email: `gl0427@myamu.ac.in`\n",
    "\n",
    "# DSA (Data Structures and Algorithms) `Tree`\n",
    "\n",
    "## Day - 20"
   ]
  },
  {
   "cell_type": "markdown",
   "id": "d20fbfde",
   "metadata": {},
   "source": [
    "**Q1. Find the node in the BST that the node's value equals val and return the subtree rooted with that node. If such a node does not exist, return null.**\n",
    "\n",
    "**Example 1 :**\n",
    "```\n",
    "Input: root = [4,2,7,1,3], val = 2\n",
    "Output: [2,1,3]\n",
    "```\n",
    "**Example 2 :**\n",
    "```\n",
    "Input: root = [4,2,7,1,3], val = 5\n",
    "Output: []\n",
    "```\n",
    "**Code :**"
   ]
  },
  {
   "cell_type": "code",
   "execution_count": null,
   "id": "2207b969",
   "metadata": {},
   "outputs": [],
   "source": [
    "class TreeNode:\n",
    "def **init**(self, val=0, left=None, right=None):\n",
    "self.val = val\n",
    "self.left = left\n",
    "self.right = right\n",
    "\n",
    "class Solution:\n",
    "def searchBST(self, root: TreeNode, val: int) -> TreeNode:\n",
    "while root and root.val != val:\n",
    "if val < root.val:\n",
    "root = root.left\n",
    "else:\n",
    "root = root.right\n",
    "return root"
   ]
  },
  {
   "cell_type": "markdown",
   "id": "ee5fbb73",
   "metadata": {},
   "source": [
    "**Q2. Given a binary tree with a value associated with each node, we need to choose a subset of these nodes such that the sum of selected nodes is maximum under a constraint that no two chosen nodes in the subset should be directly connected, that is, if we have taken a node in our sum then we can’t take any of its children in consideration and vice versa.**\n",
    "\n",
    "**Examples :**\n",
    "\n",
    "Input:\n",
    "\n",
    "Explanation: In the above binary tree, chosen nodes are encircled and are not directly connected, and their sum is the maximum possible.\n",
    "\n",
    "**Code :**"
   ]
  },
  {
   "cell_type": "code",
   "execution_count": null,
   "id": "880b3bb1",
   "metadata": {},
   "outputs": [],
   "source": [
    "class TreeNode:\n",
    "def **init**(self, val=0, left=None, right=None):\n",
    "self.val = val\n",
    "self.left = left\n",
    "self.right = right\n",
    "\n",
    "class Solution:\n",
    "def rob(self, root: TreeNode) -> int:\n",
    "def dfs(node):\n",
    "if not node:\n",
    "return [0, 0]\n",
    "left = dfs(node.left)\n",
    "right = dfs(node.right)\n",
    "return [node.val + left[1] + right[1], max(left) + max(right)]\n",
    "return max(dfs(root))"
   ]
  },
  {
   "cell_type": "markdown",
   "id": "7f6be15f",
   "metadata": {},
   "source": [
    "**Q3. Given the preorder traversal of a binary search tree, construct the BST.**\n",
    "\n",
    "**Examples :**\n",
    "\n",
    "```\n",
    "Input: {10, 5, 1, 7, 40, 50}\n",
    "Output:\n",
    "\n",
    "    10\n",
    "   /   \\\n",
    " 5     40\n",
    "/  \\       \\\n",
    "1   7      50\n",
    "```\n",
    "    \n",
    "**Code :**"
   ]
  },
  {
   "cell_type": "code",
   "execution_count": null,
   "id": "cd8d55f0",
   "metadata": {},
   "outputs": [],
   "source": [
    "class TreeNode:\n",
    "def **init**(self, val=0, left=None, right=None):\n",
    "self.val = val\n",
    "self.left = left\n",
    "self.right = right\n",
    "\n",
    "class Solution:\n",
    "def bstFromPreorder(self, preorder: List[int]) -> TreeNode:\n",
    "if not preorder:\n",
    "return None\n",
    "root = TreeNode(preorder[0])\n",
    "i = 1\n",
    "while i < len(preorder) and preorder[i] < root.val:\n",
    "i += 1\n",
    "root.left = self.bstFromPreorder(preorder[1:i])\n",
    "root.right = self.bstFromPreorder(preorder[i:])\n",
    "return root"
   ]
  }
 ],
 "metadata": {
  "kernelspec": {
   "display_name": "Python 3 (ipykernel)",
   "language": "python",
   "name": "python3"
  },
  "language_info": {
   "codemirror_mode": {
    "name": "ipython",
    "version": 3
   },
   "file_extension": ".py",
   "mimetype": "text/x-python",
   "name": "python",
   "nbconvert_exporter": "python",
   "pygments_lexer": "ipython3",
   "version": "3.9.12"
  },
  "latex_envs": {
   "LaTeX_envs_menu_present": true,
   "autoclose": false,
   "autocomplete": true,
   "bibliofile": "biblio.bib",
   "cite_by": "apalike",
   "current_citInitial": 1,
   "eqLabelWithNumbers": true,
   "eqNumInitial": 1,
   "hotkeys": {
    "equation": "Ctrl-E",
    "itemize": "Ctrl-I"
   },
   "labels_anchors": false,
   "latex_user_defs": false,
   "report_style_numbering": false,
   "user_envs_cfg": false
  },
  "nbTranslate": {
   "displayLangs": [
    "*"
   ],
   "hotkey": "alt-t",
   "langInMainMenu": true,
   "sourceLang": "en",
   "targetLang": "fr",
   "useGoogleTranslate": true
  },
  "toc": {
   "base_numbering": 1,
   "nav_menu": {},
   "number_sections": true,
   "sideBar": true,
   "skip_h1_title": false,
   "title_cell": "Table of Contents",
   "title_sidebar": "Contents",
   "toc_cell": false,
   "toc_position": {},
   "toc_section_display": true,
   "toc_window_display": false
  },
  "varInspector": {
   "cols": {
    "lenName": 16,
    "lenType": 16,
    "lenVar": 40
   },
   "kernels_config": {
    "python": {
     "delete_cmd_postfix": "",
     "delete_cmd_prefix": "del ",
     "library": "var_list.py",
     "varRefreshCmd": "print(var_dic_list())"
    },
    "r": {
     "delete_cmd_postfix": ") ",
     "delete_cmd_prefix": "rm(",
     "library": "var_list.r",
     "varRefreshCmd": "cat(var_dic_list()) "
    }
   },
   "types_to_exclude": [
    "module",
    "function",
    "builtin_function_or_method",
    "instance",
    "_Feature"
   ],
   "window_display": false
  }
 },
 "nbformat": 4,
 "nbformat_minor": 5
}
