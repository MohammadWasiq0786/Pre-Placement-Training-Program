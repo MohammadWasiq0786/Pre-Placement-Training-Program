{
 "cells": [
  {
   "cell_type": "markdown",
   "id": "6007040a",
   "metadata": {},
   "source": [
    "![image](https://user-images.githubusercontent.com/57321948/196933065-4b16c235-f3b9-4391-9cfe-4affcec87c35.png)\n",
    "\n",
    "# Submitted by: Mohammad Wasiq\n",
    "\n",
    "## Email: `gl0427@myamu.ac.in`\n",
    "\n",
    "# DSA (Data Structures and Algorithms) `Linked List`\n",
    "\n",
    "## Day - 13"
   ]
  },
  {
   "cell_type": "markdown",
   "id": "7f020f6a",
   "metadata": {},
   "source": [
    "**Q1. You are given the heads of two sorted linked lists `list1` and `list2`.**\n",
    "\n",
    "Merge the two lists in a one **sorted** list. The list should be made by splicing together the nodes of the first two lists.\n",
    "\n",
    "Return *the head of the merged linked list*.\n",
    "\n",
    "**Example 1:**\n",
    "\n",
    "![i](https://assets.leetcode.com/uploads/2020/10/03/merge_ex1.jpg)\n",
    "\n",
    "```\n",
    "Input: list1 = [1,2,4], list2 = [1,3,4]\n",
    "Output: [1,1,2,3,4,4]\n",
    "\n",
    "```\n",
    "\n",
    "**Example 2:**\n",
    "\n",
    "```\n",
    "Input: list1 = [], list2 = []\n",
    "Output: []\n",
    "\n",
    "```\n",
    "\n",
    "**Example 3:**\n",
    "\n",
    "```\n",
    "Input: list1 = [], list2 = [0]\n",
    "Output: [0]\n",
    "```\n",
    "\n",
    "**Solution :**"
   ]
  },
  {
   "cell_type": "code",
   "execution_count": null,
   "id": "ff9fdfed",
   "metadata": {
    "ExecuteTime": {
     "end_time": "2023-06-24T05:34:53.476167Z",
     "start_time": "2023-06-24T05:34:53.458215Z"
    }
   },
   "outputs": [],
   "source": [
    "def mergeTwoLists2(self, l1, l2):\n",
    "    if not l1 or not l2:\n",
    "        return l1 or l2\n",
    "    if l1.val < l2.val:\n",
    "        l1.next = self.mergeTwoLists(l1.next, l2)\n",
    "        return l1\n",
    "    else:\n",
    "        l2.next = self.mergeTwoLists(l1, l2.next)\n",
    "        return l2"
   ]
  },
  {
   "cell_type": "markdown",
   "id": "63794d41",
   "metadata": {},
   "source": [
    "**Q2.** Given the `head` of a singly linked list, return *the middle node of the linked list*.\n",
    "\n",
    "If there are two middle nodes, return **the second middle** node.\n",
    "\n",
    "**Example 1:**\n",
    "\n",
    "![i1](https://assets.leetcode.com/uploads/2021/07/23/lc-midlist1.jpg)\n",
    "\n",
    "```\n",
    "Input: head = [1,2,3,4,5]\n",
    "Output: [3,4,5]\n",
    "Explanation: The middle node of the list is node 3.\n",
    "\n",
    "```\n",
    "\n",
    "**Example 2:**\n",
    "\n",
    "![i3](https://assets.leetcode.com/uploads/2021/07/23/lc-midlist2.jpg)\n",
    "\n",
    "```\n",
    "Input: head = [1,2,3,4,5,6]\n",
    "Output: [4,5,6]\n",
    "Explanation: Since the list has two middle nodes with values 3 and 4, we return the second one.\n",
    "```\n",
    "\n",
    "**Solution :**"
   ]
  },
  {
   "cell_type": "code",
   "execution_count": null,
   "id": "311624dc",
   "metadata": {
    "ExecuteTime": {
     "end_time": "2023-06-24T05:35:53.722962Z",
     "start_time": "2023-06-24T05:35:53.707005Z"
    }
   },
   "outputs": [],
   "source": [
    "class Solution(object):\n",
    "    def middleNode(self, head):\n",
    "        # We need two pointers, one is head with one step each iteration, and the other is tmp with two steps each iteration.\n",
    "        temp = head\n",
    "        while temp and temp.next:\n",
    "            # In each iteration, we move head one node forward and we move temp two nodes forward...\n",
    "            head = head.next\n",
    "            temp = temp.next.next\n",
    "        # When temp reaches the last node, head will be exactly at the middle point...\n",
    "        return head"
   ]
  },
  {
   "cell_type": "markdown",
   "id": "5cc016ae",
   "metadata": {},
   "source": [
    "**Q3.** Given the `head` of a singly linked list, return `true` *if it is a*\n",
    "\n",
    "*palindrome or  false otherwise*\n",
    "\n",
    "**Example 1:**\n",
    "\n",
    "![i4](https://assets.leetcode.com/uploads/2021/03/03/pal1linked-list.jpg)\n",
    "\n",
    "```\n",
    "Input: head = [1,2,2,1]\n",
    "Output: true\n",
    "\n",
    "```\n",
    "\n",
    "**Example 2:**\n",
    "\n",
    "![i5](https://assets.leetcode.com/uploads/2021/03/03/pal2linked-list.jpg)\n",
    "\n",
    "```\n",
    "Input: head = [1,2]\n",
    "Output: false\n",
    "```\n",
    "\n",
    "**Solution :**"
   ]
  },
  {
   "cell_type": "code",
   "execution_count": null,
   "id": "0331e088",
   "metadata": {},
   "outputs": [],
   "source": [
    "class Solution:\n",
    "    def isPalindrome(self, head: ListNode) -> bool:\n",
    "        slow, fast, prev = head, head, None\n",
    "        while fast and fast.next:\n",
    "            slow, fast = slow.next, fast.next.next\n",
    "        prev, slow, prev.next = slow, slow.next, None\n",
    "        while slow:\n",
    "            slow.next, prev, slow = prev, slow, slow.next\n",
    "        fast, slow = head, prev\n",
    "        while slow:\n",
    "            if fast.val != slow.val: return False\n",
    "            fast, slow = fast.next, slow.next\n",
    "        return True"
   ]
  },
  {
   "cell_type": "markdown",
   "id": "30160e3a",
   "metadata": {},
   "source": [
    "**Q4. Given `head`, the head of a linked list, determine if the linked list has a cycle in it.**\n",
    "\n",
    "There is a cycle in a linked list if there is some node in the list that can be reached again by continuously following the `next` pointer. Internally, `pos` is used to denote the index of the node that tail's `next` pointer is connected to. **Note that `pos` is not passed as a parameter**.\n",
    "\n",
    "Return `true` *if there is a cycle in the linked list*. Otherwise, return `false`.\n",
    "\n",
    "**Example 1:**\n",
    "\n",
    "![img](https://assets.leetcode.com/uploads/2018/12/07/circularlinkedlist.png)\n",
    "\n",
    "```\n",
    "Input: head = [3,2,0,-4], pos = 1\n",
    "Output: true\n",
    "Explanation: There is a cycle in the linked list, where the tail connects to the 1st node (0-indexed).\n",
    "\n",
    "```\n",
    "\n",
    "**Example 2:**\n",
    "\n",
    "![img1](https://assets.leetcode.com/uploads/2018/12/07/circularlinkedlist_test2.png)\n",
    "\n",
    "```\n",
    "Input: head = [1,2], pos = 0\n",
    "Output: true\n",
    "Explanation: There is a cycle in the linked list, where the tail connects to the 0th node.\n",
    "\n",
    "```\n",
    "\n",
    "**Example 3:**\n",
    "\n",
    "![img2](https://assets.leetcode.com/uploads/2018/12/07/circularlinkedlist_test3.png)\n",
    "\n",
    "```\n",
    "Input: head = [1], pos = -1\n",
    "Output: false\n",
    "Explanation: There is no cycle in the linked list.\n",
    "```\n",
    "\n",
    "**Solution :**"
   ]
  },
  {
   "cell_type": "code",
   "execution_count": null,
   "id": "a28ff98b",
   "metadata": {
    "ExecuteTime": {
     "end_time": "2023-06-24T05:38:46.403975Z",
     "start_time": "2023-06-24T05:38:46.393000Z"
    }
   },
   "outputs": [],
   "source": [
    "class Solution(object):\n",
    "    def hasCycle(self, head):\n",
    "        # Initialize two node slow and fast point to the hesd node...\n",
    "        fastptr = head\n",
    "        slowptr = head\n",
    "        while fastptr is not None and fastptr.next is not None:\n",
    "            # Move slow pointer by 1 node and fast at 2 at each step.\n",
    "            slowptr = slowptr.next\n",
    "            fastptr = fastptr.next.next\n",
    "            # If both the pointers meet at any point, then the cycle is present and return true...\n",
    "            if slowptr == fastptr:\n",
    "                return 1\n",
    "        return 0"
   ]
  }
 ],
 "metadata": {
  "kernelspec": {
   "display_name": "Python 3 (ipykernel)",
   "language": "python",
   "name": "python3"
  },
  "language_info": {
   "codemirror_mode": {
    "name": "ipython",
    "version": 3
   },
   "file_extension": ".py",
   "mimetype": "text/x-python",
   "name": "python",
   "nbconvert_exporter": "python",
   "pygments_lexer": "ipython3",
   "version": "3.9.12"
  },
  "latex_envs": {
   "LaTeX_envs_menu_present": true,
   "autoclose": false,
   "autocomplete": true,
   "bibliofile": "biblio.bib",
   "cite_by": "apalike",
   "current_citInitial": 1,
   "eqLabelWithNumbers": true,
   "eqNumInitial": 1,
   "hotkeys": {
    "equation": "Ctrl-E",
    "itemize": "Ctrl-I"
   },
   "labels_anchors": false,
   "latex_user_defs": false,
   "report_style_numbering": false,
   "user_envs_cfg": false
  },
  "nbTranslate": {
   "displayLangs": [
    "*"
   ],
   "hotkey": "alt-t",
   "langInMainMenu": true,
   "sourceLang": "en",
   "targetLang": "fr",
   "useGoogleTranslate": true
  },
  "toc": {
   "base_numbering": 1,
   "nav_menu": {},
   "number_sections": true,
   "sideBar": true,
   "skip_h1_title": false,
   "title_cell": "Table of Contents",
   "title_sidebar": "Contents",
   "toc_cell": false,
   "toc_position": {},
   "toc_section_display": true,
   "toc_window_display": false
  },
  "varInspector": {
   "cols": {
    "lenName": 16,
    "lenType": 16,
    "lenVar": 40
   },
   "kernels_config": {
    "python": {
     "delete_cmd_postfix": "",
     "delete_cmd_prefix": "del ",
     "library": "var_list.py",
     "varRefreshCmd": "print(var_dic_list())"
    },
    "r": {
     "delete_cmd_postfix": ") ",
     "delete_cmd_prefix": "rm(",
     "library": "var_list.r",
     "varRefreshCmd": "cat(var_dic_list()) "
    }
   },
   "types_to_exclude": [
    "module",
    "function",
    "builtin_function_or_method",
    "instance",
    "_Feature"
   ],
   "window_display": false
  }
 },
 "nbformat": 4,
 "nbformat_minor": 5
}
