{
 "cells": [
  {
   "cell_type": "markdown",
   "id": "4f8dfce9",
   "metadata": {},
   "source": [
    "![image](https://user-images.githubusercontent.com/57321948/196933065-4b16c235-f3b9-4391-9cfe-4affcec87c35.png)\n",
    "\n",
    "# Submitted by: Mohammad Wasiq\n",
    "\n",
    "## Email: `gl0427@myamu.ac.in`\n",
    "\n",
    "# DSA (Data Structures and Algorithms) `Linked List`\n",
    "\n",
    "## Day - 12"
   ]
  },
  {
   "cell_type": "markdown",
   "id": "8095d6f7",
   "metadata": {},
   "source": [
    "**Q1. There is a singly-linked list `head` and we want to delete a node `node` in it.**\n",
    "\n",
    "You are given the node to be deleted `node`. You will **not be given access** to the first node of `head`.\n",
    "\n",
    "All the values of the linked list are **unique**, and it is guaranteed that the given node `node` is not the last node in the linked list.\n",
    "\n",
    "Delete the given node. Note that by deleting the node, we do not mean removing it from memory. We mean:\n",
    "\n",
    "- The value of the given node should not exist in the linked list.\n",
    "- The number of nodes in the linked list should decrease by one.\n",
    "- All the values before `node` should be in the same order.\n",
    "- All the values after `node` should be in the same order.\n",
    "\n",
    "**Custom testing:**\n",
    "\n",
    "- For the input, you should provide the entire linked list `head` and the node to be given `node`. `node` should not be the last node of the list and should be an actual node in the list.\n",
    "- We will build the linked list and pass the node to your function.\n",
    "- The output will be the entire list after calling your function.\n",
    "\n",
    "**Example 1:**\n",
    "\n",
    "![image](https://assets.leetcode.com/uploads/2020/09/01/node1.jpg)\n",
    "\n",
    "```\n",
    "Input: head = [4,5,1,9], node = 5\n",
    "Output: [4,1,9]\n",
    "Explanation:You are given the second node with value 5, the linked list should become 4 -> 1 -> 9 after calling your function.\n",
    "\n",
    "```\n",
    "\n",
    "**Example 2:**\n",
    "\n",
    "![img](https://assets.leetcode.com/uploads/2020/09/01/node2.jpg)\n",
    "\n",
    "```\n",
    "Input: head = [4,5,1,9], node = 1\n",
    "Output: [4,5,9]\n",
    "Explanation:You are given the third node with value 1, the linked list should become 4 -> 5 -> 9 after calling your function.\n",
    "```\n",
    "\n",
    "**Approach:**\n",
    "\n",
    "We first update the value of the current node with the value of its next node, and then we skip the next node by pointing the current node's next pointer to its next node's next pointer.\n",
    "\n",
    "**Complexity:**\n",
    "\n",
    "- Time complexity: Since we are only modifying the value and next pointer of the given node, the time complexity of this algorithm is O(1).\n",
    "- Space complexity: As we are not using any extra space, the space complexity of this algorithm is O(1).\n",
    "\n",
    "**Solution :**\n",
    "\n"
   ]
  },
  {
   "cell_type": "code",
   "execution_count": 1,
   "id": "b8370a63",
   "metadata": {
    "ExecuteTime": {
     "end_time": "2023-06-24T05:29:35.505226Z",
     "start_time": "2023-06-24T05:29:35.495251Z"
    }
   },
   "outputs": [],
   "source": [
    "\n",
    "class Solution(object):\n",
    "    def deleteNode(self, node):\n",
    "        node.val = node.next.val\n",
    "        node.next = node.next.next"
   ]
  },
  {
   "cell_type": "markdown",
   "id": "729fe917",
   "metadata": {},
   "source": [
    "**Q2.** Given the `head` of a linked list and an integer `val`, remove all the nodes of the linked list that has `Node.val == val`, and return *the new head*.\n",
    "\n",
    "**Example 1:**\n",
    "\n",
    "![img2](https://assets.leetcode.com/uploads/2021/03/06/removelinked-list.jpg)\n",
    "\n",
    "```\n",
    "Input: head = [1,2,6,3,4,5,6], val = 6\n",
    "Output: [1,2,3,4,5]\n",
    "\n",
    "```\n",
    "\n",
    "**Example 2:**\n",
    "\n",
    "```\n",
    "Input: head = [], val = 1\n",
    "Output: []\n",
    "\n",
    "```\n",
    "\n",
    "**Example 3:**\n",
    "\n",
    "```\n",
    "Input: head = [7,7,7,7], val = 7\n",
    "Output: []\n",
    "```\n",
    "\n",
    "**Solution :**"
   ]
  },
  {
   "cell_type": "code",
   "execution_count": null,
   "id": "e591bc6f",
   "metadata": {
    "ExecuteTime": {
     "end_time": "2023-06-24T05:30:38.844063Z",
     "start_time": "2023-06-24T05:30:38.143930Z"
    }
   },
   "outputs": [],
   "source": [
    "class Solution:\n",
    "    def removeElements(self, head: Optional[ListNode], val: int) -> Optional[ListNode]:\n",
    "        if not head:\n",
    "            return head\n",
    "        curr = head; prev = None\n",
    "        while curr:\n",
    "            if curr.val == val:\n",
    "                if not prev:\n",
    "                    head = curr.next\n",
    "                    curr = head\n",
    "                else:\n",
    "                    prev.next = curr.next\n",
    "                    curr = prev.next\n",
    "            else:\n",
    "                prev = curr\n",
    "                curr = prev.next\n",
    "        return head"
   ]
  },
  {
   "cell_type": "markdown",
   "id": "c4d4babd",
   "metadata": {},
   "source": [
    "**Q3.** Given the `head` of a singly linked list, reverse the list, and return *the reversed list*.\n",
    "\n",
    "**Example 1:**\n",
    "\n",
    "![img4](https://assets.leetcode.com/uploads/2021/02/19/rev1ex1.jpg)\n",
    "\n",
    "```\n",
    "Input: head = [1,2,3,4,5]\n",
    "Output: [5,4,3,2,1]\n",
    "\n",
    "```\n",
    "\n",
    "**Example 2:**\n",
    "\n",
    "![img5](https://assets.leetcode.com/uploads/2021/02/19/rev1ex2.jpg)\n",
    "\n",
    "```\n",
    "Input: head = [1,2]\n",
    "Output: [2,1]\n",
    "\n",
    "```\n",
    "\n",
    "**Example 3:**\n",
    "\n",
    "```\n",
    "Input: head = []\n",
    "Output: []\n",
    "```\n",
    "\n",
    "**Solution :**"
   ]
  },
  {
   "cell_type": "code",
   "execution_count": 3,
   "id": "e12a0277",
   "metadata": {
    "ExecuteTime": {
     "end_time": "2023-06-24T05:31:51.161934Z",
     "start_time": "2023-06-24T05:31:51.153956Z"
    }
   },
   "outputs": [],
   "source": [
    "class Solution(object):\n",
    "    def reverseList(self, head):\n",
    "        if head is None:\n",
    "            return head\n",
    "        \n",
    "        current = head\n",
    "        previous = None\n",
    "        \n",
    "        while current is not None:\n",
    "            temp = current.next\n",
    "            current.next = previous\n",
    "            previous = current\n",
    "            current = temp\n",
    "        \n",
    "        return previous"
   ]
  }
 ],
 "metadata": {
  "kernelspec": {
   "display_name": "Python 3 (ipykernel)",
   "language": "python",
   "name": "python3"
  },
  "language_info": {
   "codemirror_mode": {
    "name": "ipython",
    "version": 3
   },
   "file_extension": ".py",
   "mimetype": "text/x-python",
   "name": "python",
   "nbconvert_exporter": "python",
   "pygments_lexer": "ipython3",
   "version": "3.9.12"
  },
  "latex_envs": {
   "LaTeX_envs_menu_present": true,
   "autoclose": false,
   "autocomplete": true,
   "bibliofile": "biblio.bib",
   "cite_by": "apalike",
   "current_citInitial": 1,
   "eqLabelWithNumbers": true,
   "eqNumInitial": 1,
   "hotkeys": {
    "equation": "Ctrl-E",
    "itemize": "Ctrl-I"
   },
   "labels_anchors": false,
   "latex_user_defs": false,
   "report_style_numbering": false,
   "user_envs_cfg": false
  },
  "nbTranslate": {
   "displayLangs": [
    "*"
   ],
   "hotkey": "alt-t",
   "langInMainMenu": true,
   "sourceLang": "en",
   "targetLang": "fr",
   "useGoogleTranslate": true
  },
  "toc": {
   "base_numbering": 1,
   "nav_menu": {},
   "number_sections": true,
   "sideBar": true,
   "skip_h1_title": false,
   "title_cell": "Table of Contents",
   "title_sidebar": "Contents",
   "toc_cell": false,
   "toc_position": {},
   "toc_section_display": true,
   "toc_window_display": false
  },
  "varInspector": {
   "cols": {
    "lenName": 16,
    "lenType": 16,
    "lenVar": 40
   },
   "kernels_config": {
    "python": {
     "delete_cmd_postfix": "",
     "delete_cmd_prefix": "del ",
     "library": "var_list.py",
     "varRefreshCmd": "print(var_dic_list())"
    },
    "r": {
     "delete_cmd_postfix": ") ",
     "delete_cmd_prefix": "rm(",
     "library": "var_list.r",
     "varRefreshCmd": "cat(var_dic_list()) "
    }
   },
   "types_to_exclude": [
    "module",
    "function",
    "builtin_function_or_method",
    "instance",
    "_Feature"
   ],
   "window_display": false
  }
 },
 "nbformat": 4,
 "nbformat_minor": 5
}
