{
 "cells": [
  {
   "cell_type": "markdown",
   "id": "f3fd764a",
   "metadata": {},
   "source": [
    "![image](https://user-images.githubusercontent.com/57321948/196933065-4b16c235-f3b9-4391-9cfe-4affcec87c35.png)\n",
    "\n",
    "# Submitted by: Mohammad Wasiq\n",
    "\n",
    "## Email: `gl0427@myamu.ac.in`\n",
    "\n",
    "# DSA (Data Structures and Algorithms) `Stacks`\n",
    "\n",
    "## Day - 16"
   ]
  },
  {
   "cell_type": "markdown",
   "id": "293c3102",
   "metadata": {},
   "source": [
    "**Q1. Implement a last-in-first-out (LIFO) stack using only two queues. The implemented stack should support all the functions of a normal stack (`push`, `top`, `pop`, and `empty`).**\n",
    "\n",
    "Implement the `MyStack` class:\n",
    "\n",
    "- `void push(int x)` Pushes element x to the top of the stack.\n",
    "- `int pop()` Removes the element on the top of the stack and returns it.\n",
    "- `int top()` Returns the element on the top of the stack.\n",
    "- `boolean empty()` Returns `true` if the stack is empty, `false` otherwise.\n",
    "\n",
    "**Notes:**\n",
    "\n",
    "- You must use **only** standard operations of a queue, which means that only `push to back`, `peek/pop from front`, `size` and `is empty` operations are valid.\n",
    "- Depending on your language, the queue may not be supported natively. You may simulate a queue using a list or deque (double-ended queue) as long as you use only a queue's standard operations.\n",
    "\n",
    "**Example 1:**\n",
    "\n",
    "```\n",
    "Input\n",
    "[\"MyStack\", \"push\", \"push\", \"top\", \"pop\", \"empty\"]\n",
    "[[], [1], [2], [], [], []]\n",
    "Output\n",
    "[null, null, null, 2, 2, false]\n",
    "\n",
    "Explanation\n",
    "MyStack myStack = new MyStack();\n",
    "myStack.push(1);\n",
    "myStack.push(2);\n",
    "myStack.top(); // return 2\n",
    "myStack.pop(); // return 2\n",
    "myStack.empty(); // return False\n",
    "```\n",
    "\n",
    "**Solution :**"
   ]
  },
  {
   "cell_type": "code",
   "execution_count": 1,
   "id": "0025d0c3",
   "metadata": {
    "ExecuteTime": {
     "end_time": "2023-06-24T05:51:23.417344Z",
     "start_time": "2023-06-24T05:51:23.401387Z"
    }
   },
   "outputs": [],
   "source": [
    "class MyStack:\n",
    "\n",
    "    def __init__(self):\n",
    "        self.qa = deque()\n",
    "        self.qb = deque()\n",
    "\n",
    "    def push(self, x: int) -> None:\n",
    "        self.qa.append(x)\n",
    "\n",
    "    def pop(self) -> int:\n",
    "        self.flush()\n",
    "        val = self.qa.popleft()\n",
    "        self.swap()\n",
    "        \n",
    "        return val\n",
    "\n",
    "    def top(self) -> int:\n",
    "        self.flush()\n",
    "        return self.qa[0]\n",
    "\n",
    "    def empty(self) -> bool:\n",
    "        return len(self.qa) < 1 and len(self.qb) < 1\n",
    "    \n",
    "    def flush(self):\n",
    "        while len(self.qa) > 1:\n",
    "            self.qb.append(self.qa.popleft())\n",
    "    \n",
    "    def swap(self):\n",
    "        self.qa, self.qb = self.qb, self.qa"
   ]
  },
  {
   "cell_type": "markdown",
   "id": "08cd4cb1",
   "metadata": {},
   "source": [
    "**Q2. Implement a first in first out (FIFO) queue using only two stacks. The implemented queue should support all the functions of a normal queue (`push`, `peek`, `pop`, and `empty`).**\n",
    "\n",
    "Implement the `MyQueue` class:\n",
    "\n",
    "- `void push(int x)` Pushes element x to the back of the queue.\n",
    "- `int pop()` Removes the element from the front of the queue and returns it.\n",
    "- `int peek()` Returns the element at the front of the queue.\n",
    "- `boolean empty()` Returns `true` if the queue is empty, `false` otherwise.\n",
    "\n",
    "**Notes:**\n",
    "\n",
    "- You must use **only** standard operations of a stack, which means only `push to top`, `peek/pop from top`, `size`, and `is empty` operations are valid.\n",
    "- Depending on your language, the stack may not be supported natively. You may simulate a stack using a list or deque (double-ended queue) as long as you use only a stack's standard operations.\n",
    "\n",
    "**Example 1:**\n",
    "\n",
    "```\n",
    "Input\n",
    "[\"MyQueue\", \"push\", \"push\", \"peek\", \"pop\", \"empty\"]\n",
    "[[], [1], [2], [], [], []]\n",
    "Output\n",
    "[null, null, null, 1, 1, false]\n",
    "\n",
    "Explanation\n",
    "MyQueue myQueue = new MyQueue();\n",
    "myQueue.push(1); // queue is: [1]\n",
    "myQueue.push(2); // queue is: [1, 2] (leftmost is front of the queue)\n",
    "myQueue.peek(); // return 1\n",
    "myQueue.pop(); // return 1, queue is [2]\n",
    "myQueue.empty(); // return false\n",
    "```\n",
    "\n",
    "**Solution :**"
   ]
  },
  {
   "cell_type": "code",
   "execution_count": 2,
   "id": "98353848",
   "metadata": {
    "ExecuteTime": {
     "end_time": "2023-06-24T05:52:13.371611Z",
     "start_time": "2023-06-24T05:52:13.362623Z"
    }
   },
   "outputs": [],
   "source": [
    "class MyQueue(object):\n",
    "    def __init__(self):\n",
    "        self.in_stk = []\n",
    "        self.out_stk = []\n",
    "    # Push element x to the back of queue...\n",
    "    def push(self, x):\n",
    "        self.in_stk.append(x)\n",
    "    # Remove the element from the front of the queue and returns it...\n",
    "    def pop(self):\n",
    "        self.peek()\n",
    "        return self.out_stk.pop()\n",
    "    # Get the front element...\n",
    "    def peek(self):\n",
    "        if not self.out_stk:\n",
    "            while self.in_stk:\n",
    "                self.out_stk.append(self.in_stk.pop())\n",
    "        return self.out_stk[-1]\n",
    "    # Return whether the queue is empty...\n",
    "    def empty(self):\n",
    "        return not self.in_stk and not self.out_stk"
   ]
  },
  {
   "cell_type": "markdown",
   "id": "0a60ea45",
   "metadata": {},
   "source": [
    "**Q3.** Design an algorithm that collects daily price quotes for some stock and returns **the span** of that stock's price for the current day.\n",
    "\n",
    "The **span** of the stock's price in one day is the maximum number of consecutive days (starting from that day and going backward) for which the stock price was less than or equal to the price of that day.\n",
    "\n",
    "- For example, if the prices of the stock in the last four days is `[7,2,1,2]` and the price of the stock today is `2`, then the span of today is `4` because starting from today, the price of the stock was less than or equal `2` for `4` consecutive days.\n",
    "- Also, if the prices of the stock in the last four days is `[7,34,1,2]` and the price of the stock today is `8`, then the span of today is `3` because starting from today, the price of the stock was less than or equal `8` for `3` consecutive days.\n",
    "\n",
    "Implement the `StockSpanner` class:\n",
    "\n",
    "- `StockSpanner()` Initializes the object of the class.\n",
    "- `int next(int price)` Returns the **span** of the stock's price given that today's price is `price`.\n",
    "\n",
    "**Example 1:**\n",
    "\n",
    "```\n",
    "Input\n",
    "[\"StockSpanner\", \"next\", \"next\", \"next\", \"next\", \"next\", \"next\", \"next\"]\n",
    "[[], [100], [80], [60], [70], [60], [75], [85]]\n",
    "Output\n",
    "[null, 1, 1, 1, 2, 1, 4, 6]\n",
    "\n",
    "Explanation\n",
    "StockSpanner stockSpanner = new StockSpanner();\n",
    "stockSpanner.next(100); // return 1\n",
    "stockSpanner.next(80);  // return 1\n",
    "stockSpanner.next(60);  // return 1\n",
    "stockSpanner.next(70);  // return 2\n",
    "stockSpanner.next(60);  // return 1\n",
    "stockSpanner.next(75);  // return 4, because the last 4 prices (including today's price of 75) were less than or equal to today's price.\n",
    "stockSpanner.next(85);  // return 6\n",
    "```\n",
    "\n",
    "**Solution :**"
   ]
  },
  {
   "cell_type": "code",
   "execution_count": 3,
   "id": "5519c63d",
   "metadata": {
    "ExecuteTime": {
     "end_time": "2023-06-24T05:52:51.888813Z",
     "start_time": "2023-06-24T05:52:51.877842Z"
    }
   },
   "outputs": [],
   "source": [
    "class StockSpanner(object):\n",
    "    def __init__(self):\n",
    "        self.st = []\n",
    "\n",
    "    def next(self, price):\n",
    "        span = 1\n",
    "        while self.st and self.st[-1][0] <= price:\n",
    "            span += self.st.pop()[1]\n",
    "        self.st.append((price, span))\n",
    "        return span"
   ]
  }
 ],
 "metadata": {
  "kernelspec": {
   "display_name": "Python 3 (ipykernel)",
   "language": "python",
   "name": "python3"
  },
  "language_info": {
   "codemirror_mode": {
    "name": "ipython",
    "version": 3
   },
   "file_extension": ".py",
   "mimetype": "text/x-python",
   "name": "python",
   "nbconvert_exporter": "python",
   "pygments_lexer": "ipython3",
   "version": "3.9.12"
  },
  "latex_envs": {
   "LaTeX_envs_menu_present": true,
   "autoclose": false,
   "autocomplete": true,
   "bibliofile": "biblio.bib",
   "cite_by": "apalike",
   "current_citInitial": 1,
   "eqLabelWithNumbers": true,
   "eqNumInitial": 1,
   "hotkeys": {
    "equation": "Ctrl-E",
    "itemize": "Ctrl-I"
   },
   "labels_anchors": false,
   "latex_user_defs": false,
   "report_style_numbering": false,
   "user_envs_cfg": false
  },
  "nbTranslate": {
   "displayLangs": [
    "*"
   ],
   "hotkey": "alt-t",
   "langInMainMenu": true,
   "sourceLang": "en",
   "targetLang": "fr",
   "useGoogleTranslate": true
  },
  "toc": {
   "base_numbering": 1,
   "nav_menu": {},
   "number_sections": true,
   "sideBar": true,
   "skip_h1_title": false,
   "title_cell": "Table of Contents",
   "title_sidebar": "Contents",
   "toc_cell": false,
   "toc_position": {},
   "toc_section_display": true,
   "toc_window_display": false
  },
  "varInspector": {
   "cols": {
    "lenName": 16,
    "lenType": 16,
    "lenVar": 40
   },
   "kernels_config": {
    "python": {
     "delete_cmd_postfix": "",
     "delete_cmd_prefix": "del ",
     "library": "var_list.py",
     "varRefreshCmd": "print(var_dic_list())"
    },
    "r": {
     "delete_cmd_postfix": ") ",
     "delete_cmd_prefix": "rm(",
     "library": "var_list.r",
     "varRefreshCmd": "cat(var_dic_list()) "
    }
   },
   "types_to_exclude": [
    "module",
    "function",
    "builtin_function_or_method",
    "instance",
    "_Feature"
   ],
   "window_display": false
  }
 },
 "nbformat": 4,
 "nbformat_minor": 5
}
