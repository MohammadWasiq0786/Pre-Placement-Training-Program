{
 "cells": [
  {
   "cell_type": "markdown",
   "id": "b7f9d552",
   "metadata": {},
   "source": [
    "![image](https://user-images.githubusercontent.com/57321948/196933065-4b16c235-f3b9-4391-9cfe-4affcec87c35.png)\n",
    "\n",
    "# Submitted by: Mohammad Wasiq\n",
    "\n",
    "## Email: `gl0427@myamu.ac.in`\n",
    "\n",
    "# DSA (Data Structures and Algorithms) `Queues`\n",
    "\n",
    "## Day - 17"
   ]
  },
  {
   "cell_type": "markdown",
   "id": "2d6ad0bb",
   "metadata": {},
   "source": [
    "**Q1.** There are `n` people in a line queuing to buy tickets, where the `0th` person is at the **front** of the line and the `(n - 1)th` person is at the **back** of the line.\n",
    "\n",
    "You are given a **0-indexed** integer array `tickets` of length `n` where the number of tickets that the `ith` person would like to buy is `tickets[i]`.\n",
    "\n",
    "Each person takes **exactly 1 second** to buy a ticket. A person can only buy **1 ticket at a time** and has to go back to **the end** of the line (which happens **instantaneously**) in order to buy more tickets. If a person does not have any tickets left to buy, the person will **leave** the line.\n",
    "\n",
    "Return *the **time taken** for the person at position* `k` ***(0-indexed)*** *to finish buying tickets*.\n",
    "\n",
    "**Example 1:**\n",
    "\n",
    "```\n",
    "Input: tickets = [2,3,2], k = 2\n",
    "Output: 6\n",
    "Explanation:\n",
    "- In the first pass, everyone in the line buys a ticket and the line becomes [1, 2, 1].\n",
    "- In the second pass, everyone in the line buys a ticket and the line becomes [0, 1, 0].\n",
    "The person at position 2 has successfully bought 2 tickets and it took 3 + 3 = 6 seconds.\n",
    "\n",
    "```\n",
    "\n",
    "**Example 2:**\n",
    "\n",
    "```\n",
    "Input: tickets = [5,1,1,1], k = 0\n",
    "Output: 8\n",
    "Explanation:\n",
    "- In the first pass, everyone in the line buys a ticket and the line becomes [4, 0, 0, 0].\n",
    "- In the next 4 passes, only the person in position 0 is buying tickets.\n",
    "The person at position 0 has successfully bought 5 tickets and it took 4 + 1 + 1 + 1 + 1 = 8 seconds.\n",
    "```\n",
    "\n",
    "**Solution :**"
   ]
  },
  {
   "cell_type": "code",
   "execution_count": null,
   "id": "9e50d15a",
   "metadata": {
    "ExecuteTime": {
     "end_time": "2023-06-24T06:18:14.816786Z",
     "start_time": "2023-06-24T06:18:13.888265Z"
    }
   },
   "outputs": [],
   "source": [
    "class Solution:\n",
    "    def timeRequiredToBuy(self, tickets: List[int], k: int) -> int:\n",
    "        \n",
    "        n=len(tickets)\n",
    "        q=deque([i for i in range(n)])\n",
    "        \n",
    "        time=0\n",
    "        \n",
    "        while q:\n",
    "            for i in range(len(q)):\n",
    "\n",
    "                node=q.popleft()\n",
    "                tickets[node]-=1\n",
    "                if tickets[node]>=1:\n",
    "                    q.append(node)\n",
    "                \n",
    "                time+=1\n",
    "                if tickets[k]==0:\n",
    "                    return time"
   ]
  },
  {
   "cell_type": "markdown",
   "id": "3854fda0",
   "metadata": {},
   "source": [
    "**Q2. Design an algorithm that accepts a stream of integers and retrieves the product of the last `k` integers of the stream.**\n",
    "\n",
    "Implement the `ProductOfNumbers` class:\n",
    "\n",
    "- `ProductOfNumbers()` Initializes the object with an empty stream.\n",
    "- `void add(int num)` Appends the integer `num` to the stream.\n",
    "- `int getProduct(int k)` Returns the product of the last `k` numbers in the current list. You can assume that always the current list has at least `k` numbers.\n",
    "\n",
    "The test cases are generated so that, at any time, the product of any contiguous sequence of numbers will fit into a single 32-bit integer without overflowing.\n",
    "\n",
    "**Example:**\n",
    "\n",
    "```\n",
    "Input\n",
    "[\"ProductOfNumbers\",\"add\",\"add\",\"add\",\"add\",\"add\",\"getProduct\",\"getProduct\",\"getProduct\",\"add\",\"getProduct\"]\n",
    "[[],[3],[0],[2],[5],[4],[2],[3],[4],[8],[2]]\n",
    "\n",
    "Output\n",
    "[null,null,null,null,null,null,20,40,0,null,32]\n",
    "\n",
    "Explanation\n",
    "ProductOfNumbers productOfNumbers = new ProductOfNumbers();\n",
    "productOfNumbers.add(3);        // [3]\n",
    "productOfNumbers.add(0);        // [3,0]\n",
    "productOfNumbers.add(2);        // [3,0,2]\n",
    "productOfNumbers.add(5);        // [3,0,2,5]\n",
    "productOfNumbers.add(4);        // [3,0,2,5,4]\n",
    "productOfNumbers.getProduct(2); // return 20. The product of the last 2 numbers is 5 * 4 = 20\n",
    "productOfNumbers.getProduct(3); // return 40. The product of the last 3 numbers is 2 * 5 * 4 = 40\n",
    "productOfNumbers.getProduct(4); // return 0. The product of the last 4 numbers is 0 * 2 * 5 * 4 = 0\n",
    "productOfNumbers.add(8);        // [3,0,2,5,4,8]\n",
    "productOfNumbers.getProduct(2); // return 32. The product of the last 2 numbers is 4 * 8 = 32\n",
    "```\n",
    "\n",
    "**Solution :**"
   ]
  },
  {
   "cell_type": "code",
   "execution_count": null,
   "id": "44518ae2",
   "metadata": {},
   "outputs": [],
   "source": [
    "class ProductOfNumbers:\n",
    "\n",
    "    def __init__(self):\n",
    "        self.mutiRes = [1]\n",
    "        self.zeroIdx = -1\n",
    "\n",
    "    def add(self, num: int) -> None:\n",
    "        if num == 0:\n",
    "            self.zeroIdx = len(self.mutiRes)\n",
    "            self.mutiRes.append(self.mutiRes[-1] * 1)\n",
    "        else:    \n",
    "            self.mutiRes.append(self.mutiRes[-1] * num)\n",
    "\n",
    "    def getProduct(self, k: int) -> int:\n",
    "        if len(self.mutiRes) - k <= self.zeroIdx:\n",
    "            return 0\n",
    "        return self.mutiRes[-1] // self.mutiRes[len(self.mutiRes)-1 - k]"
   ]
  }
 ],
 "metadata": {
  "kernelspec": {
   "display_name": "Python 3 (ipykernel)",
   "language": "python",
   "name": "python3"
  },
  "language_info": {
   "codemirror_mode": {
    "name": "ipython",
    "version": 3
   },
   "file_extension": ".py",
   "mimetype": "text/x-python",
   "name": "python",
   "nbconvert_exporter": "python",
   "pygments_lexer": "ipython3",
   "version": "3.9.12"
  },
  "latex_envs": {
   "LaTeX_envs_menu_present": true,
   "autoclose": false,
   "autocomplete": true,
   "bibliofile": "biblio.bib",
   "cite_by": "apalike",
   "current_citInitial": 1,
   "eqLabelWithNumbers": true,
   "eqNumInitial": 1,
   "hotkeys": {
    "equation": "Ctrl-E",
    "itemize": "Ctrl-I"
   },
   "labels_anchors": false,
   "latex_user_defs": false,
   "report_style_numbering": false,
   "user_envs_cfg": false
  },
  "nbTranslate": {
   "displayLangs": [
    "*"
   ],
   "hotkey": "alt-t",
   "langInMainMenu": true,
   "sourceLang": "en",
   "targetLang": "fr",
   "useGoogleTranslate": true
  },
  "toc": {
   "base_numbering": 1,
   "nav_menu": {},
   "number_sections": true,
   "sideBar": true,
   "skip_h1_title": false,
   "title_cell": "Table of Contents",
   "title_sidebar": "Contents",
   "toc_cell": false,
   "toc_position": {},
   "toc_section_display": true,
   "toc_window_display": false
  },
  "varInspector": {
   "cols": {
    "lenName": 16,
    "lenType": 16,
    "lenVar": 40
   },
   "kernels_config": {
    "python": {
     "delete_cmd_postfix": "",
     "delete_cmd_prefix": "del ",
     "library": "var_list.py",
     "varRefreshCmd": "print(var_dic_list())"
    },
    "r": {
     "delete_cmd_postfix": ") ",
     "delete_cmd_prefix": "rm(",
     "library": "var_list.r",
     "varRefreshCmd": "cat(var_dic_list()) "
    }
   },
   "types_to_exclude": [
    "module",
    "function",
    "builtin_function_or_method",
    "instance",
    "_Feature"
   ],
   "window_display": false
  }
 },
 "nbformat": 4,
 "nbformat_minor": 5
}
