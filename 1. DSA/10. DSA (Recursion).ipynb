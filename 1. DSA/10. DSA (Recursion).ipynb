{
 "cells": [
  {
   "cell_type": "markdown",
   "id": "c67f6714",
   "metadata": {},
   "source": [
    "![image](https://user-images.githubusercontent.com/57321948/196933065-4b16c235-f3b9-4391-9cfe-4affcec87c35.png)\n",
    "\n",
    "# Submitted by: Mohammad Wasiq\n",
    "\n",
    "## Email: `gl0427@myamu.ac.in`\n",
    "\n",
    "# DSA (Data Structures and Algorithms) `Recursion`\n",
    "\n",
    "## Day - 10"
   ]
  },
  {
   "cell_type": "markdown",
   "id": "f1253e78",
   "metadata": {},
   "source": [
    "**Q1. Given a number, we need to find sum of its digits using recursion.**\n",
    "\n",
    "Examples:\n",
    "\n",
    "```\n",
    "Input : 12345\n",
    "Output : 15\n",
    "\n",
    "Input : 45632\n",
    "Output :20\n",
    "```\n",
    "\n",
    "**Explanation :** \n",
    "\n",
    "The step-by-step process for a better understanding of how the algorithm works.\n",
    "\n",
    "Let the number be 12345.\n",
    "\n",
    "```\n",
    "Step 1-> 12345 % 10 which is equal-too 5 + ( send 12345/10 to next step )\n",
    "\n",
    "Step 2-> 1234 % 10 which is equal-too 4 + ( send 1234/10 to next step )\n",
    "\n",
    "Step 3-> 123 % 10 which is equal-too 3 + ( send 123/10 to next step )\n",
    "\n",
    "Step 4-> 12 % 10 which is equal-too 2 + ( send 12/10 to next step )\n",
    "\n",
    "Step 5-> 1 % 10 which is equal-too 1 + ( send 1/10 to next step )\n",
    "\n",
    "Step 6-> 0 algorithm stops\n",
    "```\n",
    "**Time complexity :** O(logn) where n is the given number.\n",
    "\n",
    "**Auxiliary space :** O(logn) due to recursive stack space.\n",
    "\n",
    "**Solution :**"
   ]
  },
  {
   "cell_type": "code",
   "execution_count": 1,
   "id": "3002f3ca",
   "metadata": {
    "ExecuteTime": {
     "end_time": "2023-06-24T05:13:58.350549Z",
     "start_time": "2023-06-24T05:13:58.335589Z"
    }
   },
   "outputs": [
    {
     "name": "stdout",
     "output_type": "stream",
     "text": [
      "Sum of digits in 12345 is 15\n"
     ]
    }
   ],
   "source": [
    "def sum_of_digit( n ):\n",
    "    if n == 0:\n",
    "        return 0\n",
    "    return (n % 10 + sum_of_digit(int(n / 10)))\n",
    "\n",
    "# Driven code to check above\n",
    "num = 12345\n",
    "result = sum_of_digit(num)\n",
    "print(\"Sum of digits in\",num,\"is\", result)"
   ]
  },
  {
   "cell_type": "markdown",
   "id": "7e6b881c",
   "metadata": {},
   "source": [
    "**Q2.** Given two numbers **a** and **b**, the task is to find the GCD of the two numbers.\n",
    "\n",
    "**Note:** GCD (Greatest Common Divisor) or HCF (Highest Common Factor) of two numbers is the largest number that divides both of them.\n",
    "\n",
    "***Input:** a = 20, b = 28*\n",
    "\n",
    "**Output:** 4\n",
    "\n",
    "**Explanation:** The factors of 20 are 1, 2, 4, 5, 10 and 20. The factors of 28 are 1, 2, 4, 7, 14 and 28. Among these factors, 1, 2 and 4 are the common factors of both 20 and 28. The greatest among the common factors is 4.\n",
    "\n",
    "***Input:** a = 60, b = 36*\n",
    "\n",
    "**Output:** 12\n",
    "\n",
    "**Time Complexity:** O(log(min(a,b))\n",
    "\n",
    "**Auxiliary Space:** O(log(min(a,b))\n",
    "\n",
    "**Solution :**"
   ]
  },
  {
   "cell_type": "code",
   "execution_count": 2,
   "id": "4bd00855",
   "metadata": {
    "ExecuteTime": {
     "end_time": "2023-06-24T05:14:53.638190Z",
     "start_time": "2023-06-24T05:14:53.624227Z"
    }
   },
   "outputs": [
    {
     "name": "stdout",
     "output_type": "stream",
     "text": [
      "GCD of 98 and 56 is 14\n"
     ]
    }
   ],
   "source": [
    "def gcd(a,b):\n",
    "\n",
    "    # Everything divides 0\n",
    "    if (b == 0):\n",
    "        return a\n",
    "    return gcd(b, a%b)\n",
    "\n",
    "# Driver program to test above function\n",
    "a = 98\n",
    "b = 56\n",
    "if(gcd(a, b)):\n",
    "    print('GCD of', a, 'and', b, 'is', gcd(a, b))\n",
    "else:\n",
    "    print('not found')"
   ]
  },
  {
   "cell_type": "markdown",
   "id": "42210a30",
   "metadata": {},
   "source": [
    "**Q3. Given an array of integers, print sums of all subsets in it. Output sums can be printed in any order.**\n",
    "\n",
    "**Examples :**\n",
    "\n",
    "```\n",
    "Input : arr[] = {2, 3}\n",
    "Output: 0 2 3 5\n",
    "\n",
    "Input : arr[] = {2, 4, 5}\n",
    "Output : 0 2 4 5 6 7 9 11\n",
    "```\n",
    "\n",
    "**Explanation :** \n",
    "\n",
    "We can recursively solve this problem. There are total 2n subsets. For every element, we consider two choices, we include it in a subset and we don’t include it in a subset.\n",
    "\n",
    "**Time complexity :** O(2^n)\n",
    "\n",
    "**Auxiliary Space :** O(n)\n",
    "\n",
    "**Solution :**"
   ]
  },
  {
   "cell_type": "code",
   "execution_count": 3,
   "id": "61849aec",
   "metadata": {
    "ExecuteTime": {
     "end_time": "2023-06-24T05:15:45.946400Z",
     "start_time": "2023-06-24T05:15:45.931439Z"
    }
   },
   "outputs": [
    {
     "name": "stdout",
     "output_type": "stream",
     "text": [
      "12 9 8 5 7 4 3 0 "
     ]
    }
   ],
   "source": [
    "def subsetSums(arr, l, r, sum=0):\n",
    "\n",
    "    # Print current subset\n",
    "    if l > r:\n",
    "        print(sum, end=\" \")\n",
    "        return\n",
    "\n",
    "    # Subset including arr[l]\n",
    "    subsetSums(arr, l + 1, r, sum + arr[l])\n",
    "\n",
    "    # Subset excluding arr[l]\n",
    "    subsetSums(arr, l + 1, r, sum)\n",
    "\n",
    "\n",
    "# Driver code\n",
    "arr = [5, 4, 3]\n",
    "n = len(arr)\n",
    "subsetSums(arr, 0, n - 1)"
   ]
  }
 ],
 "metadata": {
  "kernelspec": {
   "display_name": "Python 3 (ipykernel)",
   "language": "python",
   "name": "python3"
  },
  "language_info": {
   "codemirror_mode": {
    "name": "ipython",
    "version": 3
   },
   "file_extension": ".py",
   "mimetype": "text/x-python",
   "name": "python",
   "nbconvert_exporter": "python",
   "pygments_lexer": "ipython3",
   "version": "3.9.12"
  },
  "latex_envs": {
   "LaTeX_envs_menu_present": true,
   "autoclose": false,
   "autocomplete": true,
   "bibliofile": "biblio.bib",
   "cite_by": "apalike",
   "current_citInitial": 1,
   "eqLabelWithNumbers": true,
   "eqNumInitial": 1,
   "hotkeys": {
    "equation": "Ctrl-E",
    "itemize": "Ctrl-I"
   },
   "labels_anchors": false,
   "latex_user_defs": false,
   "report_style_numbering": false,
   "user_envs_cfg": false
  },
  "nbTranslate": {
   "displayLangs": [
    "*"
   ],
   "hotkey": "alt-t",
   "langInMainMenu": true,
   "sourceLang": "en",
   "targetLang": "fr",
   "useGoogleTranslate": true
  },
  "toc": {
   "base_numbering": 1,
   "nav_menu": {},
   "number_sections": true,
   "sideBar": true,
   "skip_h1_title": false,
   "title_cell": "Table of Contents",
   "title_sidebar": "Contents",
   "toc_cell": false,
   "toc_position": {},
   "toc_section_display": true,
   "toc_window_display": false
  },
  "varInspector": {
   "cols": {
    "lenName": 16,
    "lenType": 16,
    "lenVar": 40
   },
   "kernels_config": {
    "python": {
     "delete_cmd_postfix": "",
     "delete_cmd_prefix": "del ",
     "library": "var_list.py",
     "varRefreshCmd": "print(var_dic_list())"
    },
    "r": {
     "delete_cmd_postfix": ") ",
     "delete_cmd_prefix": "rm(",
     "library": "var_list.r",
     "varRefreshCmd": "cat(var_dic_list()) "
    }
   },
   "types_to_exclude": [
    "module",
    "function",
    "builtin_function_or_method",
    "instance",
    "_Feature"
   ],
   "window_display": false
  }
 },
 "nbformat": 4,
 "nbformat_minor": 5
}
